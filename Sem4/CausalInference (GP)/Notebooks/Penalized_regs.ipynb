{
  "cells": [
    {
      "cell_type": "markdown",
      "metadata": {
        "_execution_state": "idle",
        "_uuid": "051d70d956493feee0c6d64651c6a088724dca2a",
        "id": "VshpNbDMNXxq",
        "papermill": {
          "duration": 0.010774,
          "end_time": "2021-02-15T11:01:41.782833",
          "exception": false,
          "start_time": "2021-02-15T11:01:41.772059",
          "status": "completed"
        },
        "tags": []
      },
      "source": [
        "# Penalized Linear Regressions: A Simulation Experiment"
      ]
    },
    {
      "cell_type": "code",
      "execution_count": null,
      "metadata": {
        "id": "UTUoszHwNXxr"
      },
      "outputs": [],
      "source": [
        "import matplotlib.pyplot as plt\n",
        "import random\n",
        "import numpy as np\n",
        "import warnings\n",
        "warnings.simplefilter('ignore')\n",
        "from sklearn.linear_model import LassoCV\n",
        "from sklearn.linear_model import RidgeCV, ElasticNetCV, LinearRegression, Lasso, Ridge\n",
        "from sklearn.metrics import r2_score\n",
        "from sklearn.model_selection import GridSearchCV\n",
        "import pandas as pd\n",
        "from sklearn.base import BaseEstimator\n",
        "random.seed(5)"
      ]
    },
    {
      "cell_type": "markdown",
      "metadata": {
        "id": "boNconu7NXxs"
      },
      "source": [
        "## Data Generating Process"
      ]
    },
    {
      "cell_type": "markdown",
      "metadata": {
        "id": "2-DeZXDfNXxs"
      },
      "source": [
        "  The function creates synthetic data for regression with varying coefficient structures. It’s useful for testing models under different feature importance scenarios.\n",
        "\n",
        "1. Regimes:\n",
        "\n",
        "  - \"sparse\": Only the first few features have substantial influence; later ones decay rapidly.\n",
        "  - \"dense\": All features moderately affect the response (common in complex systems).\n",
        "  - \"sparsedense\": Mimics situations where a few features dominate but many others have small effects.\n",
        "\n",
        "2. True Function true_fn:\n",
        "  -Computes noise-free predictions. This helps evaluate models' ability to capture the true signal versus just fitting noise.\n",
        "\n",
        "3. Population Data:\n",
        "  A large dataset (Xpop, ypop) approximates the entire population, ideal for analyzing generalization and population-level metrics.\n",
        "\n",
        "4. Noise Addition:\n",
        "  Gaussian noise simulates real-world measurement error, making the problem more realistic."
      ]
    },
    {
      "cell_type": "markdown",
      "source": [
        "$y=X.\\beta+\\epsilon$"
      ],
      "metadata": {
        "id": "NtDuitWIkMoQ"
      }
    },
    {
      "cell_type": "code",
      "execution_count": null,
      "metadata": {
        "id": "C16cAmFsAg_p"
      },
      "outputs": [],
      "source": [
        "def gen_data(n, p, *, regime=\"sparse\"):\n",
        "    \"\"\"\n",
        "    Generates synthetic regression data with different sparsity regimes.\n",
        "\n",
        "    Parameters:\n",
        "    - n (int): Number of samples for training and testing datasets.\n",
        "    - p (int): Number of features.\n",
        "    - regime (str, optional): Type of coefficient sparsity. Options:\n",
        "        - \"sparse\": Coefficients decay quadratically (few dominant features).\n",
        "        - \"dense\": Coefficients drawn from normal distribution (many moderate features).\n",
        "        - \"sparsedense\": Combination of sparse and dense coefficients.\n",
        "\n",
        "    Returns:\n",
        "    - X (ndarray): Training feature matrix of shape (n, p).\n",
        "    - y (ndarray): Training target vector with added noise.\n",
        "    - gX (ndarray): True target values without noise (training set).\n",
        "    - Xtest (ndarray): Testing feature matrix of shape (n, p).\n",
        "    - ytest (ndarray): Testing target vector with noise.\n",
        "    - gXtest (ndarray): True target values without noise (testing set).\n",
        "    - Xpop (ndarray): Population-level feature matrix (100,000 samples).\n",
        "    - ypop (ndarray): Population-level target values with noise.\n",
        "    - gXpop (ndarray): Population-level true target values without noise.\n",
        "    - beta (ndarray): True coefficient vector of shape (p,).\n",
        "    \"\"\"\n",
        "\n",
        "    # Set true coefficients based on the chosen regime\n",
        "    if regime == \"sparse\":\n",
        "        # Sparse regime: Coefficients decay quadratically with the feature index\n",
        "        # This creates a scenario where a few features are strongly predictive.\n",
        "        beta = ((1 / np.arange(1, p + 1)) ** 2) * 7\n",
        "\n",
        "    elif regime == \"dense\":\n",
        "        # Dense regime: All features have moderate influence, drawn from normal distribution\n",
        "        beta = np.random.normal(0, 1, p) * 0.35\n",
        "\n",
        "    elif regime == \"sparsedense\":\n",
        "        # Mixed regime: Combination of sparse and dense influences\n",
        "        # Quadratically decaying part + moderate noise from normal distribution\n",
        "        beta = (((1 / np.arange(1, p + 1)) ** 2) * 5) + (np.random.normal(0, 1, p) * 0.25)\n",
        "\n",
        "    def true_fn(x):\n",
        "        \"\"\"Calculates the true (noise-free) response using the linear model.\"\"\"\n",
        "        return x @ beta  # Matrix-vector multiplication for predicted values\n",
        "\n",
        "    # Generate training features from a uniform distribution in [-0.5, 0.5]\n",
        "    X = np.random.uniform(-0.5, 0.5, size=(n, p))\n",
        "    gX = true_fn(X)  # True target without noise\n",
        "    y = gX + np.random.normal(0, 1, size=n)  # Add Gaussian noise for observed target\n",
        "\n",
        "    # Generate test dataset similarly for out-of-sample evaluation\n",
        "    Xtest = np.random.uniform(-0.5, 0.5, size=(n, p))\n",
        "    gXtest = true_fn(Xtest)\n",
        "    ytest = gXtest + np.random.normal(0, 1, size=n)\n",
        "\n",
        "    # Generate large population-level dataset (used to approximate population metrics)\n",
        "    Xpop = np.random.uniform(-0.5, 0.5, size=(100000, p))\n",
        "    gXpop = true_fn(Xpop)\n",
        "    ypop = gXpop + np.random.normal(0, 1, size=100000)\n",
        "\n",
        "    return X, y, gX, Xtest, ytest, gXtest, Xpop, ypop, gXpop, beta\n"
      ]
    },
    {
      "cell_type": "markdown",
      "metadata": {
        "id": "kh_obVQKNXxt",
        "papermill": {
          "duration": 0.010616,
          "end_time": "2021-02-15T11:01:41.804126",
          "exception": false,
          "start_time": "2021-02-15T11:01:41.793510",
          "status": "completed"
        },
        "tags": []
      },
      "source": [
        "## Data Generating Process: Approximately Sparse"
      ]
    },
    {
      "cell_type": "code",
      "execution_count": null,
      "metadata": {
        "id": "cIV-ZeCGNXxt"
      },
      "outputs": [],
      "source": [
        "n = 100\n",
        "p = 400\n",
        "X, y, gX, Xtest, ytest, gXtest, Xpop, ypop, gXpop, betas = gen_data(n, p, regime=\"sparse\")"
      ]
    },
    {
      "cell_type": "markdown",
      "source": [
        "- Sample size (n=100): Generates training and test sets with 100 samples each.\n",
        "\n",
        "- Number of features (p=400): Each sample has 400 features. This creates a high-dimensional scenario where the number of features exceeds the sample size, often seen in genomic data, text features, or image pixels.\n",
        "\n",
        "- Regime (\"sparse\"):\n",
        "Only the first few features are influential, with coefficients decreasing quadratically. Most features contribute little or no information."
      ],
      "metadata": {
        "id": "tF2q3twtZnIr"
      }
    },
    {
      "cell_type": "code",
      "execution_count": null,
      "metadata": {
        "id": "wOFX2dObNXxt",
        "colab": {
          "base_uri": "https://localhost:8080/",
          "height": 478
        },
        "outputId": "af486a10-2125-4808-cce5-a188fe3d2bc1"
      },
      "outputs": [
        {
          "output_type": "display_data",
          "data": {
            "text/plain": [
              "<Figure size 640x480 with 1 Axes>"
            ],
            "image/png": "[encoded data removed]"
          },
          "metadata": {}
        }
      ],
      "source": [
        "plt.figure()\n",
        "plt.title(r\"$Y$ vs. $g(X)$\")\n",
        "plt.scatter(gX, y)\n",
        "plt.xlabel(r\"$g(X)$\")\n",
        "plt.ylabel(r\"$Y$\")\n",
        "plt.show()"
      ]
    },
    {
      "cell_type": "code",
      "execution_count": null,
      "metadata": {
        "id": "YdWNt-ZrNXxu",
        "colab": {
          "base_uri": "https://localhost:8080/"
        },
        "outputId": "f4a1c281-8877-4b31-e96c-25f3bf9669c5"
      },
      "outputs": [
        {
          "output_type": "stream",
          "name": "stdout",
          "text": [
            "theoretical R^2:, 0.815686611659733\n",
            "theoretical R^2:, 0.8144977728960222\n"
          ]
        }
      ],
      "source": [
        "print(f\"theoretical R^2:, {1 - np.var(ypop - gXpop) / np.var(ypop)}\")\n",
        "print(f\"theoretical R^2:, {np.var(gXpop) / np.var(ypop)}\")"
      ]
    },
    {
      "cell_type": "code",
      "execution_count": null,
      "metadata": {
        "id": "lNBmiZkpJwSe",
        "colab": {
          "base_uri": "https://localhost:8080/",
          "height": 478
        },
        "outputId": "e7d8defe-e5d0-472e-8247-81036bf718b2"
      },
      "outputs": [
        {
          "output_type": "display_data",
          "data": {
            "text/plain": [
              "<Figure size 640x480 with 1 Axes>"
            ],
            "image/png": "[encoded data removed]"
          },
          "metadata": {}
        }
      ],
      "source": [
        "plt.figure()\n",
        "plt.scatter(range(len(betas)), abs(betas), s=5, color='b')\n",
        "plt.xlabel(r'$\\beta$')\n",
        "plt.ylabel('Magnitude (log scale)')\n",
        "plt.title(r'$\\beta$ Magnitude')\n",
        "plt.yscale('log')\n",
        "plt.show()"
      ]
    },
    {
      "cell_type": "markdown",
      "metadata": {
        "id": "TEyFNuIoNXxv"
      },
      "source": [
        "## Lasso, Ridge, ElasticNet"
      ]
    },
    {
      "cell_type": "markdown",
      "metadata": {
        "id": "BuMLbuCaNXxv"
      },
      "source": [
        "We use sklearn's penalized estimators, which choose the penalty parameter via cross-validation (by default 5-fold cross-validation). These methods search over an adaptively chosen grid of hyperparameters. `ElasticNet` allows for a convex combination of `l1` and `l2` penalty and the ratio with `l1_ratio` corresponding to the proportion of the `l1` penalty."
      ]
    },
    {
      "cell_type": "markdown",
      "source": [
        "This code performs three types of regularized regression using cross-validation to select optimal hyperparameters:"
      ],
      "metadata": {
        "id": "fK6dGI0faAI3"
      }
    },
    {
      "cell_type": "code",
      "execution_count": null,
      "metadata": {
        "id": "5t7kITTvNXxv"
      },
      "outputs": [],
      "source": [
        "# Regressions\n",
        "lcv = LassoCV().fit(X, y)\n",
        "ridge = RidgeCV().fit(X, y)\n",
        "enet = ElasticNetCV(l1_ratio=0.5).fit(X, y) #l1 is taken as 0.5"
      ]
    },
    {
      "cell_type": "markdown",
      "source": [
        "- Lasso Regression (LassoCV):\n",
        "Penalizes the absolute values of coefficients (L1 penalty).\n",
        "Encourages sparsity (i.e., some coefficients shrink to zero).\n",
        "Useful for feature selection when dealing with many irrelevant features.\n",
        "LassoCV uses cross-validation to find the best alpha (regularization strength).\n",
        "\n",
        "- Ridge Regression (RidgeCV):\n",
        "Penalizes the square of the coefficients (L2 penalty).\n",
        "Shrinks coefficients but doesn’t zero them out.\n",
        "Helps when dealing with multicollinearity or high-dimensional data.\n",
        "RidgeCV selects the best alpha through cross-validation.\n",
        "\n",
        "\n",
        "Elastic Net (ElasticNetCV):\n",
        "\n",
        "- Combines L1 (Lasso) and L2 (Ridge) penalties.\n",
        "Balances sparsity and coefficient shrinkage.\n",
        "l1_ratio=0.5: Equal emphasis on Lasso and Ridge components.\n",
        "ElasticNetCV finds the best combination of alpha and l1_ratio."
      ],
      "metadata": {
        "id": "du7W4L-raD4K"
      }
    },
    {
      "cell_type": "markdown",
      "metadata": {
        "id": "-yFVOY9aNXxv"
      },
      "source": [
        "We calculate the R-squared on the small test set that we have"
      ]
    },
    {
      "cell_type": "code",
      "execution_count": null,
      "metadata": {
        "id": "djcr2rq0NXxv",
        "colab": {
          "base_uri": "https://localhost:8080/"
        },
        "outputId": "3578bac4-89ba-4188-c092-3f62172b3173"
      },
      "outputs": [
        {
          "output_type": "execute_result",
          "data": {
            "text/plain": [
              "(0.7742313163669147, 0.12410572462749792, 0.560779394732962)"
            ]
          },
          "metadata": {},
          "execution_count": 8
        }
      ],
      "source": [
        "r2_lcv = r2_score(ytest, lcv.predict(Xtest))\n",
        "r2_ridge = r2_score(ytest, ridge.predict(Xtest))\n",
        "r2_enet = r2_score(ytest, enet.predict(Xtest))\n",
        "r2_lcv, r2_ridge, r2_enet"
      ]
    },
    {
      "cell_type": "markdown",
      "source": [
        "What is R²?\n",
        "- R² (Coefficient of Determination) measures how well the model explains the variability of the target variable.\n",
        "- Values range from:\n",
        "  - 1.0: Perfect fit\n",
        "  - 0.0: Model explains no variance beyond the mean\n",
        "  - < 0.0: Worse than just predicting the mean\n",
        "\n",
        "Interpreting Results:\n",
        "- High R² (closer to 1): Model captures the true signal effectively.\n",
        "- Lower R² for Lasso (in high-dimensional data): Lasso may overshrink coefficients.\n",
        "- Ridge might outperform Lasso when many small but relevant features exist.\n",
        "- Elastic Net balances both: Good if there’s a mix of sparse and dense signals."
      ],
      "metadata": {
        "id": "XQVIpNWTaZTY"
      }
    },
    {
      "cell_type": "markdown",
      "metadata": {
        "id": "syiyl10ONXxv"
      },
      "source": [
        "We also calculate what the R-squared would be in the population limit (in our case for practical purposes when we have a very very large test sample)"
      ]
    },
    {
      "cell_type": "code",
      "execution_count": null,
      "metadata": {
        "id": "d6DZheRTNXxv",
        "colab": {
          "base_uri": "https://localhost:8080/"
        },
        "outputId": "6ce4f016-f72b-48a8-abcf-caa126b6210a"
      },
      "outputs": [
        {
          "output_type": "execute_result",
          "data": {
            "text/plain": [
              "(0.7574179170188436, 0.1586121217054628, 0.5453199344235287)"
            ]
          },
          "metadata": {},
          "execution_count": 9
        }
      ],
      "source": [
        "r2_lcv = r2_score(ypop, lcv.predict(Xpop))\n",
        "r2_ridge = r2_score(ypop, ridge.predict(Xpop))\n",
        "r2_enet = r2_score(ypop, enet.predict(Xpop))\n",
        "r2_lcv, r2_ridge, r2_enet"
      ]
    },
    {
      "cell_type": "markdown",
      "metadata": {
        "id": "ioo1FK-kNXxw"
      },
      "source": [
        "We can also try this with fitting OLS after Lasso selects variables, but note, this is the wrong post-lasso OLS with cross-validation!"
      ]
    },
    {
      "cell_type": "markdown",
      "source": [
        "What is Post-Lasso OLS?\n",
        "- Lasso for Feature Selection:\n",
        "Lasso identifies important features by shrinking some coefficients to zero.\n",
        "- OLS (Ordinary Least Squares) Refit:\n",
        "After selecting features, a standard linear regression refines coefficient estimates without penalty, often improving prediction and reducing bias from Lasso’s shrinkage."
      ],
      "metadata": {
        "id": "A29glX9la8Ao"
      }
    },
    {
      "cell_type": "code",
      "source": [
        "from sklearn.linear_model import LassoCV, LinearRegression\n",
        "import numpy as np\n",
        "\n",
        "class PostLassoOLS:\n",
        "    def fit(self, X, y):\n",
        "        \"\"\"\n",
        "        Fits a Lasso model to select features, then refits OLS on the selected features.\n",
        "\n",
        "        Parameters:\n",
        "        - X (ndarray): Feature matrix of shape (n_samples, n_features).\n",
        "        - y (ndarray): Target vector of shape (n_samples,).\n",
        "\n",
        "        Returns:\n",
        "        - self: Fitted PostLassoOLS instance.\n",
        "        \"\"\"\n",
        "        # Lasso for feature selection (with cross-validation for alpha)\n",
        "        lasso = LassoCV().fit(X, y)\n",
        "\n",
        "        # Identify selected features (non-zero coefficients)\n",
        "        self.feats_ = np.abs(lasso.coef_) > 1e-6  # Boolean mask for selected features\n",
        "\n",
        "        #  Fit OLS on the subset of features selected by Lasso\n",
        "        self.lr_ = LinearRegression().fit(X[:, self.feats_], y)\n",
        "\n",
        "        return self\n",
        "\n",
        "    def predict(self, X):\n",
        "        \"\"\"\n",
        "        Predict target values using the OLS model on selected features.\n",
        "\n",
        "        Parameters:\n",
        "        - X (ndarray): Feature matrix for prediction.\n",
        "\n",
        "        Returns:\n",
        "        - predictions (ndarray): Predicted values.\n",
        "        \"\"\"\n",
        "        return self.lr_.predict(X[:, self.feats_])  # Use only selected features\n",
        "\n",
        "    @property\n",
        "    def coef_(self):\n",
        "        \"\"\"\n",
        "        Returns the coefficients from the OLS model.\n",
        "\n",
        "        Returns:\n",
        "        - coef_ (ndarray): Coefficient values for selected features.\n",
        "        \"\"\"\n",
        "        return self.lr_.coef_\n"
      ],
      "metadata": {
        "id": "hLhT2ZR8bYJM"
      },
      "execution_count": null,
      "outputs": []
    },
    {
      "cell_type": "markdown",
      "source": [
        "Why Use Post-Lasso OLS?\n",
        "- Lasso alone shrinks coefficients, introducing bias.\n",
        "- Post-Lasso OLS keeps Lasso’s feature selection but removes bias by using OLS on selected features.\n",
        "- Often leads to improved prediction accuracy and more interpretable models"
      ],
      "metadata": {
        "id": "yvJ0EvC4bn--"
      }
    },
    {
      "cell_type": "code",
      "execution_count": null,
      "metadata": {
        "id": "tcreqHGDNXxw",
        "colab": {
          "base_uri": "https://localhost:8080/"
        },
        "outputId": "d9d5728b-d51e-490b-a7b6-f333e81545af"
      },
      "outputs": [
        {
          "output_type": "execute_result",
          "data": {
            "text/plain": [
              "0.7515279762848878"
            ]
          },
          "metadata": {},
          "execution_count": 11
        }
      ],
      "source": [
        "plols = PostLassoOLS().fit(X, y)\n",
        "r2_score(ypop, plols.predict(Xpop))"
      ]
    },
    {
      "cell_type": "markdown",
      "metadata": {
        "id": "JZU3DVkgNXxw"
      },
      "source": [
        "## Plug-in Hyperparameter Lasso and Post-Lasso OLS"
      ]
    },
    {
      "cell_type": "markdown",
      "metadata": {
        "id": "VdUmbg1bNXxx",
        "papermill": {
          "duration": 0.01429,
          "end_time": "2021-02-15T11:01:45.388902",
          "exception": false,
          "start_time": "2021-02-15T11:01:45.374612",
          "status": "completed"
        },
        "tags": []
      },
      "source": [
        "Here we compute the lasso and ols post lasso using plug-in choices for penalty levels."
      ]
    },
    {
      "cell_type": "markdown",
      "metadata": {
        "id": "xLXh-KPp4ivz"
      },
      "source": [
        "\\We use \"plug-in\" tuning with a theoretically valid choice of penalty $\\lambda = 2 \\cdot c \\hat{\\sigma} \\sqrt{n} \\Phi^{-1}(1-\\alpha/2p)$, where $c>1$ and $1-\\alpha$ is a confidence level, and $\\Phi^{-1}$ denotes the quantile function. Under homoskedasticity, this choice ensures that the Lasso predictor is well behaved, delivering good predictive performance under approximate sparsity. In practice, this formula will work well even in the absence of homoskedasticity, especially when the random variables $\\epsilon$ and $X$ in the regression equation decay quickly at the tails.\n",
        "\n",
        "In practice, many people choose to use cross-validation, which is perfectly fine for predictive tasks. However, when conducting inference, to make our analysis valid we will require cross-fitting in addition to cross-validation. As we have not yet discussed cross-fitting, we rely on this theoretically-driven penalty in order to allow for accurate inference in the upcoming notebooks."
      ]
    },
    {
      "cell_type": "markdown",
      "metadata": {
        "id": "8qqapxWmNXxx"
      },
      "source": [
        "We pull an analogue of R's rlasso. Rlasso functionality: it is searching the right set of regressors. This function was made for the case of ***p*** regressors and ***n*** observations where ***p >>>> n***. It assumes that the error is i.i.d. The errors may be non-Gaussian or heteroscedastic.\\\n",
        "The post lasso function makes OLS with the selected ***T*** regressors.\n",
        "To select those parameters, they use $\\lambda$ as variable to penalize\\\n",
        "**Funny thing: the function rlasso was named like that because it is the \"rigorous\" Lasso.**\\\n",
        "We find a Python code that tries to replicate the main function of hdm r-package. It was made by [Max Huppertz](https://maxhuppertz.github.io/code/). His library is this [repository](https://github.com/maxhuppertz/hdmpy). If not using colab, download its repository and copy this folder to your site-packages folder. In my case it is located here ***C:\\Python\\Python38\\Lib\\site-packages*** . We need to install this package ***pip install multiprocess***."
      ]
    },
    {
      "cell_type": "code",
      "execution_count": null,
      "metadata": {
        "id": "u7tAphVB8fVV",
        "colab": {
          "base_uri": "https://localhost:8080/"
        },
        "outputId": "8cebb77f-c16e-4bcf-a53f-0e0a4d4c66bb"
      },
      "outputs": [
        {
          "output_type": "stream",
          "name": "stdout",
          "text": [
            "Cloning into 'hdmpy'...\n",
            "remote: Enumerating objects: 70, done.\u001b[K\n",
            "remote: Counting objects: 100% (70/70), done.\u001b[K\n",
            "remote: Compressing objects: 100% (49/49), done.\u001b[K\n",
            "remote: Total 70 (delta 39), reused 52 (delta 21), pack-reused 0 (from 0)\u001b[K\n",
            "Receiving objects: 100% (70/70), 25.30 KiB | 3.16 MiB/s, done.\n",
            "Resolving deltas: 100% (39/39), done.\n",
            "Collecting multiprocess\n",
            "  Downloading multiprocess-0.70.17-py311-none-any.whl.metadata (7.2 kB)\n",
            "Collecting dill>=0.3.9 (from multiprocess)\n",
            "  Downloading dill-0.3.9-py3-none-any.whl.metadata (10 kB)\n",
            "Downloading multiprocess-0.70.17-py311-none-any.whl (144 kB)\n",
            "\u001b[2K   \u001b[90m━━━━━━━━━━━━━━━━━━━━━━━━━━━━━━━━━━━━━━━━\u001b[0m \u001b[32m144.3/144.3 kB\u001b[0m \u001b[31m3.3 MB/s\u001b[0m eta \u001b[36m0:00:00\u001b[0m\n",
            "\u001b[?25hDownloading dill-0.3.9-py3-none-any.whl (119 kB)\n",
            "\u001b[2K   \u001b[90m━━━━━━━━━━━━━━━━━━━━━━━━━━━━━━━━━━━━━━━━\u001b[0m \u001b[32m119.4/119.4 kB\u001b[0m \u001b[31m5.0 MB/s\u001b[0m eta \u001b[36m0:00:00\u001b[0m\n",
            "\u001b[?25hInstalling collected packages: dill, multiprocess\n",
            "Successfully installed dill-0.3.9 multiprocess-0.70.17\n"
          ]
        }
      ],
      "source": [
        "!git clone https://github.com/maxhuppertz/hdmpy.git\n",
        "!pip install multiprocess"
      ]
    },
    {
      "cell_type": "markdown",
      "source": [
        "What is RLasso?\n",
        "- RLasso (Regularized Lasso) comes from the hdmpy package, which implements high-dimensional methods used in econometrics and statistics.\n",
        "- It combines Lasso-based variable selection with robust statistical inference.\n",
        "- The post option controls whether it performs Post-Lasso OLS after selecting features.\n"
      ],
      "metadata": {
        "id": "0jCzjak4byJy"
      }
    },
    {
      "cell_type": "code",
      "execution_count": null,
      "metadata": {
        "id": "OZz-6CRZNXxx"
      },
      "outputs": [],
      "source": [
        "import numpy as np\n",
        "from sklearn.base import BaseEstimator\n",
        "import hdmpy  # High-dimensional methods in Python\n",
        "\n",
        "class RLasso(BaseEstimator):\n",
        "    def __init__(self, *, post=True):\n",
        "        \"\"\"\n",
        "        Wrapper for hdmpy.rlasso with sklearn-compatible API.\n",
        "\n",
        "        Parameters:\n",
        "        - post (bool): If True, performs Post-Lasso OLS after feature selection.\n",
        "        \"\"\"\n",
        "        self.post = post\n",
        "\n",
        "    def fit(self, X, y):\n",
        "        \"\"\"\n",
        "        Fits the R-Lasso model.\n",
        "\n",
        "        Parameters:\n",
        "        - X (ndarray): Feature matrix (n_samples, n_features).\n",
        "        - y (ndarray): Target vector (n_samples,).\n",
        "\n",
        "        Returns:\n",
        "        - self: Fitted RLasso instance.\n",
        "        \"\"\"\n",
        "        self.rlasso_ = hdmpy.rlasso(X, y, post=self.post)  # Fit R-Lasso with/without post-Lasso OLS\n",
        "        return self\n",
        "\n",
        "    def predict(self, X):\n",
        "        \"\"\"\n",
        "        Predict target values using the fitted R-Lasso model.\n",
        "\n",
        "        Parameters:\n",
        "        - X (ndarray): Feature matrix for prediction.\n",
        "\n",
        "        Returns:\n",
        "        - predictions (ndarray): Predicted target values.\n",
        "        \"\"\"\n",
        "        beta = np.array(self.rlasso_.est['beta']).flatten()      # Extract coefficient vector\n",
        "        intercept = np.array(self.rlasso_.est['intercept'])      # Extract intercept\n",
        "        return X @ beta + intercept                              # Linear prediction: Xβ + intercept\n"
      ]
    },
    {
      "cell_type": "markdown",
      "source": [
        "predict method:\n",
        "\n",
        "Uses the estimated coefficients and intercept for prediction:\n",
        "$y\\hat=X.\\beta+intercept$"
      ],
      "metadata": {
        "id": "-rCy0LDacB-q"
      }
    },
    {
      "cell_type": "code",
      "execution_count": null,
      "metadata": {
        "id": "Z_8rwavpNXxx"
      },
      "outputs": [],
      "source": [
        "rlasso = RLasso(post=False).fit(X, y)      # R-Lasso without Post-Lasso OLS\n",
        "rlasso_post = RLasso(post=True).fit(X, y)  # R-Lasso with Post-Lasso OLS"
      ]
    },
    {
      "cell_type": "markdown",
      "source": [
        "What’s the Difference?\n",
        "1. rlasso (post=False):\n",
        "- Directly uses Lasso estimates.\n",
        "- Coefficients are shrunk toward zero to prevent overfitting.\n",
        "- Good for feature selection but can introduce bias in coefficient estimates.\n",
        "\n",
        "2. rlasso_post (post=True):\n",
        "- First step: Uses Lasso to select important features.\n",
        "- Second step: Refits an OLS model on those features → reduces bias.\n",
        "- Provides more accurate coefficients without losing the benefits of feature selection.\n",
        "\n",
        "Expected Results:\n",
        "- Without Post-Lasso (post=False): Slightly lower R² due to coefficient shrinkage bias.\n",
        "\n",
        "- With Post-Lasso (post=True):Usually higher R² as OLS corrects the bias while retaining Lasso’s feature selection."
      ],
      "metadata": {
        "id": "hUA1HKbBcVaj"
      }
    },
    {
      "cell_type": "code",
      "execution_count": null,
      "metadata": {
        "id": "NZ6en14_NXxx",
        "colab": {
          "base_uri": "https://localhost:8080/"
        },
        "outputId": "00fb3868-0b82-44f7-d160-026516283db2"
      },
      "outputs": [
        {
          "output_type": "execute_result",
          "data": {
            "text/plain": [
              "(0.7659168770999029, 0.7934446536731903)"
            ]
          },
          "metadata": {},
          "execution_count": 15
        }
      ],
      "source": [
        "r2_rlasso = r2_score(ytest, rlasso.predict(Xtest))       # R² for R-Lasso (no post)\n",
        "r2_rlasso_post = r2_score(ytest, rlasso_post.predict(Xtest))  # R² for R-Lasso (with post-Lasso OLS)\n",
        "\n",
        "r2_rlasso, r2_rlasso_post\n"
      ]
    },
    {
      "cell_type": "markdown",
      "source": [
        "Possible Reasons for lower $R^2$ with post-Lasso:\n",
        "1. Overfitting in OLS Step:\n",
        "\n",
        "Lasso introduces bias but reduces variance (better for generalization).\n",
        "OLS removes the bias but may increase variance, especially with many selected features or a small sample size.\n",
        "If OLS fits noise in the training data, test set performance drops.\n",
        "\n",
        "2. Too Many Features Selected:\n",
        "\n",
        "If Lasso selects many weak predictors, the post-OLS refit can overfit these uninformative variables.\n",
        "Weak Signal Strength:\n",
        "\n",
        "When true effects are small, the Lasso shrinkage helps stabilize predictions, which OLS loses.\n",
        "\n",
        "3. Random Noise in Data Generation:\n",
        "\n",
        "If your dataset has high noise (variance of the error term), OLS might amplify it.\n",
        "Sample Size vs. Dimensionality (p >> n):\n",
        "\n",
        "In high-dimensional settings, Lasso's shrinkage is crucial for stability.\n",
        "OLS doesn’t handle p≫n well unless Lasso selects very few features."
      ],
      "metadata": {
        "id": "4DYftMUydO6p"
      }
    },
    {
      "cell_type": "code",
      "execution_count": null,
      "metadata": {
        "id": "dp4jXG8eNXxx",
        "colab": {
          "base_uri": "https://localhost:8080/"
        },
        "outputId": "1b3068bc-50a6-44c3-87ac-91eafeecb8e0"
      },
      "outputs": [
        {
          "output_type": "execute_result",
          "data": {
            "text/plain": [
              "(0.7557333932149162, 0.7928273935617625)"
            ]
          },
          "metadata": {},
          "execution_count": 16
        }
      ],
      "source": [
        "# Compute R² using the population data\n",
        "r2_rlasso = r2_score(ypop, rlasso.predict(Xpop))         # R-Lasso without post-processing\n",
        "r2_rlasso_post = r2_score(ypop, rlasso_post.predict(Xpop))  # R-Lasso with Post-Lasso OLS\n",
        "\n",
        "r2_rlasso, r2_rlasso_post"
      ]
    },
    {
      "cell_type": "markdown",
      "metadata": {
        "id": "RhBRFMSbNXxy"
      },
      "source": [
        "## LAVA: Dense + Sparse Coefficients"
      ]
    },
    {
      "cell_type": "markdown",
      "source": [
        "What is LAVA?\n",
        "- LAVA combines the strengths of both:\n",
        "\n",
        "- Lasso: Provides feature selection through L1 penalty.\n",
        "- Ridge: Handles multicollinearity and stabilizes predictions with L2 penalty.\n",
        "\n",
        "How it works:\n",
        "\n",
        "- Ridge step: Smooths the prediction and stabilizes coefficients.\n",
        "- Lasso step: Removes unimportant features by shrinking some coefficients to zero.\n",
        "- Iterations: Repeats Ridge-Lasso fitting to balance bias (Ridge) and sparsity (Lasso)."
      ],
      "metadata": {
        "id": "RvA6Q39ZdqGF"
      }
    },
    {
      "cell_type": "markdown",
      "source": [
        "Points to keep in account in Tuning:\n",
        "- Increase alpha1 → More aggressive feature selection.\n",
        "- Increase alpha2 → More stable (but less flexible) predictions.\n",
        "- Adjust iterations → Too many can cause overfitting; 3–5 is usually enough."
      ],
      "metadata": {
        "id": "U0wxYKe2d-Zg"
      }
    },
    {
      "cell_type": "code",
      "execution_count": null,
      "metadata": {
        "id": "NukBqoVfNXxy"
      },
      "outputs": [],
      "source": [
        "from sklearn.base import BaseEstimator\n",
        "from sklearn.linear_model import Ridge, Lasso\n",
        "import numpy as np\n",
        "\n",
        "class Lava(BaseEstimator):\n",
        "    def __init__(self, *, alpha1=1, alpha2=1, iterations=5):\n",
        "        \"\"\"\n",
        "        LAVA: Combines Lasso and Ridge via alternating optimization.\n",
        "\n",
        "        Parameters:\n",
        "        - alpha1 (float): L1 penalty for Lasso.\n",
        "        - alpha2 (float): L2 penalty for Ridge.\n",
        "        - iterations (int): Number of alternating iterations between Ridge and Lasso.\n",
        "        \"\"\"\n",
        "        self.alpha1 = alpha1\n",
        "        self.alpha2 = alpha2\n",
        "        self.iterations = iterations\n",
        "\n",
        "    def fit(self, X, y):\n",
        "        \"\"\"\n",
        "        Fits the LAVA model by alternating between Ridge and Lasso regressions.\n",
        "\n",
        "        Steps:\n",
        "        1. Fit Ridge to get a stable baseline.\n",
        "        2. Fit Lasso to the residuals from Ridge.\n",
        "        3. Alternate fitting Ridge and Lasso to residuals for better balance.\n",
        "\n",
        "        Parameters:\n",
        "        - X (ndarray): Feature matrix (n_samples, n_features).\n",
        "        - y (ndarray): Target vector (n_samples,).\n",
        "\n",
        "        Returns:\n",
        "        - self: Fitted Lava instance.\n",
        "        \"\"\"\n",
        "        # Initial Ridge fit\n",
        "        ridge = Ridge(self.alpha2).fit(X, y)\n",
        "\n",
        "        # Lasso fits residuals from Ridge\n",
        "        lasso = Lasso(self.alpha1).fit(X, y - ridge.predict(X))\n",
        "\n",
        "        #  Alternate between Ridge and Lasso fits\n",
        "        for _ in range(self.iterations - 1):\n",
        "            ridge = ridge.fit(X, y - lasso.predict(X))   # Ridge corrects residuals from Lasso\n",
        "            lasso = lasso.fit(X, y - ridge.predict(X))   # Lasso corrects residuals from Ridge\n",
        "\n",
        "        self.lasso_ = lasso\n",
        "        self.ridge_ = ridge\n",
        "        return self\n",
        "\n",
        "    def predict(self, X):\n",
        "        \"\"\"\n",
        "        Predict target values by combining Ridge and Lasso predictions.\n",
        "\n",
        "        Returns:\n",
        "        - predictions (ndarray): Predicted target values.\n",
        "        \"\"\"\n",
        "        return self.lasso_.predict(X) + self.ridge_.predict(X)  # Combines both model outputs\n"
      ]
    },
    {
      "cell_type": "markdown",
      "source": [
        "To performs a grid search to find the best hyperparameters (alpha1, alpha2) for the Lava model\n",
        "\n"
      ],
      "metadata": {
        "id": "qeIUXUgVeO5M"
      }
    },
    {
      "cell_type": "code",
      "execution_count": null,
      "metadata": {
        "id": "skdYbLrSNXxy",
        "colab": {
          "base_uri": "https://localhost:8080/",
          "height": 164
        },
        "outputId": "26c6a246-dcdc-4eb3-8095-1803260f5cd4"
      },
      "outputs": [
        {
          "output_type": "execute_result",
          "data": {
            "text/plain": [
              "GridSearchCV(estimator=Lava(), n_jobs=-1,\n",
              "             param_grid={'alpha1': array([1.00000000e-04, 2.63665090e-04, 6.95192796e-04, 1.83298071e-03,\n",
              "       4.83293024e-03, 1.27427499e-02, 3.35981829e-02, 8.85866790e-02,\n",
              "       2.33572147e-01, 6.15848211e-01, 1.62377674e+00, 4.28133240e+00,\n",
              "       1.12883789e+01, 2.97635144e+01, 7.84759970e+01, 2.06913808e+02,\n",
              "       5.45559478e+02, 1.43844989e+03, 3.79269019e+03, 1.00000000e+04]),\n",
              "                         'alpha2': array([1.00000000e-04, 2.63665090e-04, 6.95192796e-04, 1.83298071e-03,\n",
              "       4.83293024e-03, 1.27427499e-02, 3.35981829e-02, 8.85866790e-02,\n",
              "       2.33572147e-01, 6.15848211e-01, 1.62377674e+00, 4.28133240e+00,\n",
              "       1.12883789e+01, 2.97635144e+01, 7.84759970e+01, 2.06913808e+02,\n",
              "       5.45559478e+02, 1.43844989e+03, 3.79269019e+03, 1.00000000e+04])},\n",
              "             scoring='r2')"
            ],
            "text/html": [
              "<style>#sk-container-id-1 {\n",
              "  /* Definition of color scheme common for light and dark mode */\n",
              "  --sklearn-color-text: #000;\n",
              "  --sklearn-color-text-muted: #666;\n",
              "  --sklearn-color-line: gray;\n",
              "  /* Definition of color scheme for unfitted estimators */\n",
              "  --sklearn-color-unfitted-level-0: #fff5e6;\n",
              "  --sklearn-color-unfitted-level-1: #f6e4d2;\n",
              "  --sklearn-color-unfitted-level-2: #ffe0b3;\n",
              "  --sklearn-color-unfitted-level-3: chocolate;\n",
              "  /* Definition of color scheme for fitted estimators */\n",
              "  --sklearn-color-fitted-level-0: #f0f8ff;\n",
              "  --sklearn-color-fitted-level-1: #d4ebff;\n",
              "  --sklearn-color-fitted-level-2: #b3dbfd;\n",
              "  --sklearn-color-fitted-level-3: cornflowerblue;\n",
              "\n",
              "  /* Specific color for light theme */\n",
              "  --sklearn-color-text-on-default-background: var(--sg-text-color, var(--theme-code-foreground, var(--jp-content-font-color1, black)));\n",
              "  --sklearn-color-background: var(--sg-background-color, var(--theme-background, var(--jp-layout-color0, white)));\n",
              "  --sklearn-color-border-box: var(--sg-text-color, var(--theme-code-foreground, var(--jp-content-font-color1, black)));\n",
              "  --sklearn-color-icon: #696969;\n",
              "\n",
              "  @media (prefers-color-scheme: dark) {\n",
              "    /* Redefinition of color scheme for dark theme */\n",
              "    --sklearn-color-text-on-default-background: var(--sg-text-color, var(--theme-code-foreground, var(--jp-content-font-color1, white)));\n",
              "    --sklearn-color-background: var(--sg-background-color, var(--theme-background, var(--jp-layout-color0, #111)));\n",
              "    --sklearn-color-border-box: var(--sg-text-color, var(--theme-code-foreground, var(--jp-content-font-color1, white)));\n",
              "    --sklearn-color-icon: #878787;\n",
              "  }\n",
              "}\n",
              "\n",
              "#sk-container-id-1 {\n",
              "  color: var(--sklearn-color-text);\n",
              "}\n",
              "\n",
              "#sk-container-id-1 pre {\n",
              "  padding: 0;\n",
              "}\n",
              "\n",
              "#sk-container-id-1 input.sk-hidden--visually {\n",
              "  border: 0;\n",
              "  clip: rect(1px 1px 1px 1px);\n",
              "  clip: rect(1px, 1px, 1px, 1px);\n",
              "  height: 1px;\n",
              "  margin: -1px;\n",
              "  overflow: hidden;\n",
              "  padding: 0;\n",
              "  position: absolute;\n",
              "  width: 1px;\n",
              "}\n",
              "\n",
              "#sk-container-id-1 div.sk-dashed-wrapped {\n",
              "  border: 1px dashed var(--sklearn-color-line);\n",
              "  margin: 0 0.4em 0.5em 0.4em;\n",
              "  box-sizing: border-box;\n",
              "  padding-bottom: 0.4em;\n",
              "  background-color: var(--sklearn-color-background);\n",
              "}\n",
              "\n",
              "#sk-container-id-1 div.sk-container {\n",
              "  /* jupyter's `normalize.less` sets `[hidden] { display: none; }`\n",
              "     but bootstrap.min.css set `[hidden] { display: none !important; }`\n",
              "     so we also need the `!important` here to be able to override the\n",
              "     default hidden behavior on the sphinx rendered scikit-learn.org.\n",
              "     See: https://github.com/scikit-learn/scikit-learn/issues/21755 */\n",
              "  display: inline-block !important;\n",
              "  position: relative;\n",
              "}\n",
              "\n",
              "#sk-container-id-1 div.sk-text-repr-fallback {\n",
              "  display: none;\n",
              "}\n",
              "\n",
              "div.sk-parallel-item,\n",
              "div.sk-serial,\n",
              "div.sk-item {\n",
              "  /* draw centered vertical line to link estimators */\n",
              "  background-image: linear-gradient(var(--sklearn-color-text-on-default-background), var(--sklearn-color-text-on-default-background));\n",
              "  background-size: 2px 100%;\n",
              "  background-repeat: no-repeat;\n",
              "  background-position: center center;\n",
              "}\n",
              "\n",
              "/* Parallel-specific style estimator block */\n",
              "\n",
              "#sk-container-id-1 div.sk-parallel-item::after {\n",
              "  content: \"\";\n",
              "  width: 100%;\n",
              "  border-bottom: 2px solid var(--sklearn-color-text-on-default-background);\n",
              "  flex-grow: 1;\n",
              "}\n",
              "\n",
              "#sk-container-id-1 div.sk-parallel {\n",
              "  display: flex;\n",
              "  align-items: stretch;\n",
              "  justify-content: center;\n",
              "  background-color: var(--sklearn-color-background);\n",
              "  position: relative;\n",
              "}\n",
              "\n",
              "#sk-container-id-1 div.sk-parallel-item {\n",
              "  display: flex;\n",
              "  flex-direction: column;\n",
              "}\n",
              "\n",
              "#sk-container-id-1 div.sk-parallel-item:first-child::after {\n",
              "  align-self: flex-end;\n",
              "  width: 50%;\n",
              "}\n",
              "\n",
              "#sk-container-id-1 div.sk-parallel-item:last-child::after {\n",
              "  align-self: flex-start;\n",
              "  width: 50%;\n",
              "}\n",
              "\n",
              "#sk-container-id-1 div.sk-parallel-item:only-child::after {\n",
              "  width: 0;\n",
              "}\n",
              "\n",
              "/* Serial-specific style estimator block */\n",
              "\n",
              "#sk-container-id-1 div.sk-serial {\n",
              "  display: flex;\n",
              "  flex-direction: column;\n",
              "  align-items: center;\n",
              "  background-color: var(--sklearn-color-background);\n",
              "  padding-right: 1em;\n",
              "  padding-left: 1em;\n",
              "}\n",
              "\n",
              "\n",
              "/* Toggleable style: style used for estimator/Pipeline/ColumnTransformer box that is\n",
              "clickable and can be expanded/collapsed.\n",
              "- Pipeline and ColumnTransformer use this feature and define the default style\n",
              "- Estimators will overwrite some part of the style using the `sk-estimator` class\n",
              "*/\n",
              "\n",
              "/* Pipeline and ColumnTransformer style (default) */\n",
              "\n",
              "#sk-container-id-1 div.sk-toggleable {\n",
              "  /* Default theme specific background. It is overwritten whether we have a\n",
              "  specific estimator or a Pipeline/ColumnTransformer */\n",
              "  background-color: var(--sklearn-color-background);\n",
              "}\n",
              "\n",
              "/* Toggleable label */\n",
              "#sk-container-id-1 label.sk-toggleable__label {\n",
              "  cursor: pointer;\n",
              "  display: flex;\n",
              "  width: 100%;\n",
              "  margin-bottom: 0;\n",
              "  padding: 0.5em;\n",
              "  box-sizing: border-box;\n",
              "  text-align: center;\n",
              "  align-items: start;\n",
              "  justify-content: space-between;\n",
              "  gap: 0.5em;\n",
              "}\n",
              "\n",
              "#sk-container-id-1 label.sk-toggleable__label .caption {\n",
              "  font-size: 0.6rem;\n",
              "  font-weight: lighter;\n",
              "  color: var(--sklearn-color-text-muted);\n",
              "}\n",
              "\n",
              "#sk-container-id-1 label.sk-toggleable__label-arrow:before {\n",
              "  /* Arrow on the left of the label */\n",
              "  content: \"▸\";\n",
              "  float: left;\n",
              "  margin-right: 0.25em;\n",
              "  color: var(--sklearn-color-icon);\n",
              "}\n",
              "\n",
              "#sk-container-id-1 label.sk-toggleable__label-arrow:hover:before {\n",
              "  color: var(--sklearn-color-text);\n",
              "}\n",
              "\n",
              "/* Toggleable content - dropdown */\n",
              "\n",
              "#sk-container-id-1 div.sk-toggleable__content {\n",
              "  max-height: 0;\n",
              "  max-width: 0;\n",
              "  overflow: hidden;\n",
              "  text-align: left;\n",
              "  /* unfitted */\n",
              "  background-color: var(--sklearn-color-unfitted-level-0);\n",
              "}\n",
              "\n",
              "#sk-container-id-1 div.sk-toggleable__content.fitted {\n",
              "  /* fitted */\n",
              "  background-color: var(--sklearn-color-fitted-level-0);\n",
              "}\n",
              "\n",
              "#sk-container-id-1 div.sk-toggleable__content pre {\n",
              "  margin: 0.2em;\n",
              "  border-radius: 0.25em;\n",
              "  color: var(--sklearn-color-text);\n",
              "  /* unfitted */\n",
              "  background-color: var(--sklearn-color-unfitted-level-0);\n",
              "}\n",
              "\n",
              "#sk-container-id-1 div.sk-toggleable__content.fitted pre {\n",
              "  /* unfitted */\n",
              "  background-color: var(--sklearn-color-fitted-level-0);\n",
              "}\n",
              "\n",
              "#sk-container-id-1 input.sk-toggleable__control:checked~div.sk-toggleable__content {\n",
              "  /* Expand drop-down */\n",
              "  max-height: 200px;\n",
              "  max-width: 100%;\n",
              "  overflow: auto;\n",
              "}\n",
              "\n",
              "#sk-container-id-1 input.sk-toggleable__control:checked~label.sk-toggleable__label-arrow:before {\n",
              "  content: \"▾\";\n",
              "}\n",
              "\n",
              "/* Pipeline/ColumnTransformer-specific style */\n",
              "\n",
              "#sk-container-id-1 div.sk-label input.sk-toggleable__control:checked~label.sk-toggleable__label {\n",
              "  color: var(--sklearn-color-text);\n",
              "  background-color: var(--sklearn-color-unfitted-level-2);\n",
              "}\n",
              "\n",
              "#sk-container-id-1 div.sk-label.fitted input.sk-toggleable__control:checked~label.sk-toggleable__label {\n",
              "  background-color: var(--sklearn-color-fitted-level-2);\n",
              "}\n",
              "\n",
              "/* Estimator-specific style */\n",
              "\n",
              "/* Colorize estimator box */\n",
              "#sk-container-id-1 div.sk-estimator input.sk-toggleable__control:checked~label.sk-toggleable__label {\n",
              "  /* unfitted */\n",
              "  background-color: var(--sklearn-color-unfitted-level-2);\n",
              "}\n",
              "\n",
              "#sk-container-id-1 div.sk-estimator.fitted input.sk-toggleable__control:checked~label.sk-toggleable__label {\n",
              "  /* fitted */\n",
              "  background-color: var(--sklearn-color-fitted-level-2);\n",
              "}\n",
              "\n",
              "#sk-container-id-1 div.sk-label label.sk-toggleable__label,\n",
              "#sk-container-id-1 div.sk-label label {\n",
              "  /* The background is the default theme color */\n",
              "  color: var(--sklearn-color-text-on-default-background);\n",
              "}\n",
              "\n",
              "/* On hover, darken the color of the background */\n",
              "#sk-container-id-1 div.sk-label:hover label.sk-toggleable__label {\n",
              "  color: var(--sklearn-color-text);\n",
              "  background-color: var(--sklearn-color-unfitted-level-2);\n",
              "}\n",
              "\n",
              "/* Label box, darken color on hover, fitted */\n",
              "#sk-container-id-1 div.sk-label.fitted:hover label.sk-toggleable__label.fitted {\n",
              "  color: var(--sklearn-color-text);\n",
              "  background-color: var(--sklearn-color-fitted-level-2);\n",
              "}\n",
              "\n",
              "/* Estimator label */\n",
              "\n",
              "#sk-container-id-1 div.sk-label label {\n",
              "  font-family: monospace;\n",
              "  font-weight: bold;\n",
              "  display: inline-block;\n",
              "  line-height: 1.2em;\n",
              "}\n",
              "\n",
              "#sk-container-id-1 div.sk-label-container {\n",
              "  text-align: center;\n",
              "}\n",
              "\n",
              "/* Estimator-specific */\n",
              "#sk-container-id-1 div.sk-estimator {\n",
              "  font-family: monospace;\n",
              "  border: 1px dotted var(--sklearn-color-border-box);\n",
              "  border-radius: 0.25em;\n",
              "  box-sizing: border-box;\n",
              "  margin-bottom: 0.5em;\n",
              "  /* unfitted */\n",
              "  background-color: var(--sklearn-color-unfitted-level-0);\n",
              "}\n",
              "\n",
              "#sk-container-id-1 div.sk-estimator.fitted {\n",
              "  /* fitted */\n",
              "  background-color: var(--sklearn-color-fitted-level-0);\n",
              "}\n",
              "\n",
              "/* on hover */\n",
              "#sk-container-id-1 div.sk-estimator:hover {\n",
              "  /* unfitted */\n",
              "  background-color: var(--sklearn-color-unfitted-level-2);\n",
              "}\n",
              "\n",
              "#sk-container-id-1 div.sk-estimator.fitted:hover {\n",
              "  /* fitted */\n",
              "  background-color: var(--sklearn-color-fitted-level-2);\n",
              "}\n",
              "\n",
              "/* Specification for estimator info (e.g. \"i\" and \"?\") */\n",
              "\n",
              "/* Common style for \"i\" and \"?\" */\n",
              "\n",
              ".sk-estimator-doc-link,\n",
              "a:link.sk-estimator-doc-link,\n",
              "a:visited.sk-estimator-doc-link {\n",
              "  float: right;\n",
              "  font-size: smaller;\n",
              "  line-height: 1em;\n",
              "  font-family: monospace;\n",
              "  background-color: var(--sklearn-color-background);\n",
              "  border-radius: 1em;\n",
              "  height: 1em;\n",
              "  width: 1em;\n",
              "  text-decoration: none !important;\n",
              "  margin-left: 0.5em;\n",
              "  text-align: center;\n",
              "  /* unfitted */\n",
              "  border: var(--sklearn-color-unfitted-level-1) 1pt solid;\n",
              "  color: var(--sklearn-color-unfitted-level-1);\n",
              "}\n",
              "\n",
              ".sk-estimator-doc-link.fitted,\n",
              "a:link.sk-estimator-doc-link.fitted,\n",
              "a:visited.sk-estimator-doc-link.fitted {\n",
              "  /* fitted */\n",
              "  border: var(--sklearn-color-fitted-level-1) 1pt solid;\n",
              "  color: var(--sklearn-color-fitted-level-1);\n",
              "}\n",
              "\n",
              "/* On hover */\n",
              "div.sk-estimator:hover .sk-estimator-doc-link:hover,\n",
              ".sk-estimator-doc-link:hover,\n",
              "div.sk-label-container:hover .sk-estimator-doc-link:hover,\n",
              ".sk-estimator-doc-link:hover {\n",
              "  /* unfitted */\n",
              "  background-color: var(--sklearn-color-unfitted-level-3);\n",
              "  color: var(--sklearn-color-background);\n",
              "  text-decoration: none;\n",
              "}\n",
              "\n",
              "div.sk-estimator.fitted:hover .sk-estimator-doc-link.fitted:hover,\n",
              ".sk-estimator-doc-link.fitted:hover,\n",
              "div.sk-label-container:hover .sk-estimator-doc-link.fitted:hover,\n",
              ".sk-estimator-doc-link.fitted:hover {\n",
              "  /* fitted */\n",
              "  background-color: var(--sklearn-color-fitted-level-3);\n",
              "  color: var(--sklearn-color-background);\n",
              "  text-decoration: none;\n",
              "}\n",
              "\n",
              "/* Span, style for the box shown on hovering the info icon */\n",
              ".sk-estimator-doc-link span {\n",
              "  display: none;\n",
              "  z-index: 9999;\n",
              "  position: relative;\n",
              "  font-weight: normal;\n",
              "  right: .2ex;\n",
              "  padding: .5ex;\n",
              "  margin: .5ex;\n",
              "  width: min-content;\n",
              "  min-width: 20ex;\n",
              "  max-width: 50ex;\n",
              "  color: var(--sklearn-color-text);\n",
              "  box-shadow: 2pt 2pt 4pt #999;\n",
              "  /* unfitted */\n",
              "  background: var(--sklearn-color-unfitted-level-0);\n",
              "  border: .5pt solid var(--sklearn-color-unfitted-level-3);\n",
              "}\n",
              "\n",
              ".sk-estimator-doc-link.fitted span {\n",
              "  /* fitted */\n",
              "  background: var(--sklearn-color-fitted-level-0);\n",
              "  border: var(--sklearn-color-fitted-level-3);\n",
              "}\n",
              "\n",
              ".sk-estimator-doc-link:hover span {\n",
              "  display: block;\n",
              "}\n",
              "\n",
              "/* \"?\"-specific style due to the `<a>` HTML tag */\n",
              "\n",
              "#sk-container-id-1 a.estimator_doc_link {\n",
              "  float: right;\n",
              "  font-size: 1rem;\n",
              "  line-height: 1em;\n",
              "  font-family: monospace;\n",
              "  background-color: var(--sklearn-color-background);\n",
              "  border-radius: 1rem;\n",
              "  height: 1rem;\n",
              "  width: 1rem;\n",
              "  text-decoration: none;\n",
              "  /* unfitted */\n",
              "  color: var(--sklearn-color-unfitted-level-1);\n",
              "  border: var(--sklearn-color-unfitted-level-1) 1pt solid;\n",
              "}\n",
              "\n",
              "#sk-container-id-1 a.estimator_doc_link.fitted {\n",
              "  /* fitted */\n",
              "  border: var(--sklearn-color-fitted-level-1) 1pt solid;\n",
              "  color: var(--sklearn-color-fitted-level-1);\n",
              "}\n",
              "\n",
              "/* On hover */\n",
              "#sk-container-id-1 a.estimator_doc_link:hover {\n",
              "  /* unfitted */\n",
              "  background-color: var(--sklearn-color-unfitted-level-3);\n",
              "  color: var(--sklearn-color-background);\n",
              "  text-decoration: none;\n",
              "}\n",
              "\n",
              "#sk-container-id-1 a.estimator_doc_link.fitted:hover {\n",
              "  /* fitted */\n",
              "  background-color: var(--sklearn-color-fitted-level-3);\n",
              "}\n",
              "</style><div id=\"sk-container-id-1\" class=\"sk-top-container\"><div class=\"sk-text-repr-fallback\"><pre>GridSearchCV(estimator=Lava(), n_jobs=-1,\n",
              "             param_grid={&#x27;alpha1&#x27;: array([1.00000000e-04, 2.63665090e-04, 6.95192796e-04, 1.83298071e-03,\n",
              "       4.83293024e-03, 1.27427499e-02, 3.35981829e-02, 8.85866790e-02,\n",
              "       2.33572147e-01, 6.15848211e-01, 1.62377674e+00, 4.28133240e+00,\n",
              "       1.12883789e+01, 2.97635144e+01, 7.84759970e+01, 2.06913808e+02,\n",
              "       5.45559478e+02, 1.43844989e+03, 3.79269019e+03, 1.00000000e+04]),\n",
              "                         &#x27;alpha2&#x27;: array([1.00000000e-04, 2.63665090e-04, 6.95192796e-04, 1.83298071e-03,\n",
              "       4.83293024e-03, 1.27427499e-02, 3.35981829e-02, 8.85866790e-02,\n",
              "       2.33572147e-01, 6.15848211e-01, 1.62377674e+00, 4.28133240e+00,\n",
              "       1.12883789e+01, 2.97635144e+01, 7.84759970e+01, 2.06913808e+02,\n",
              "       5.45559478e+02, 1.43844989e+03, 3.79269019e+03, 1.00000000e+04])},\n",
              "             scoring=&#x27;r2&#x27;)</pre><b>In a Jupyter environment, please rerun this cell to show the HTML representation or trust the notebook. <br />On GitHub, the HTML representation is unable to render, please try loading this page with nbviewer.org.</b></div><div class=\"sk-container\" hidden><div class=\"sk-item sk-dashed-wrapped\"><div class=\"sk-label-container\"><div class=\"sk-label fitted sk-toggleable\"><input class=\"sk-toggleable__control sk-hidden--visually\" id=\"sk-estimator-id-1\" type=\"checkbox\" ><label for=\"sk-estimator-id-1\" class=\"sk-toggleable__label fitted sk-toggleable__label-arrow\"><div><div>GridSearchCV</div></div><div><a class=\"sk-estimator-doc-link fitted\" rel=\"noreferrer\" target=\"_blank\" href=\"https://scikit-learn.org/1.6/modules/generated/sklearn.model_selection.GridSearchCV.html\">?<span>Documentation for GridSearchCV</span></a><span class=\"sk-estimator-doc-link fitted\">i<span>Fitted</span></span></div></label><div class=\"sk-toggleable__content fitted\"><pre>GridSearchCV(estimator=Lava(), n_jobs=-1,\n",
              "             param_grid={&#x27;alpha1&#x27;: array([1.00000000e-04, 2.63665090e-04, 6.95192796e-04, 1.83298071e-03,\n",
              "       4.83293024e-03, 1.27427499e-02, 3.35981829e-02, 8.85866790e-02,\n",
              "       2.33572147e-01, 6.15848211e-01, 1.62377674e+00, 4.28133240e+00,\n",
              "       1.12883789e+01, 2.97635144e+01, 7.84759970e+01, 2.06913808e+02,\n",
              "       5.45559478e+02, 1.43844989e+03, 3.79269019e+03, 1.00000000e+04]),\n",
              "                         &#x27;alpha2&#x27;: array([1.00000000e-04, 2.63665090e-04, 6.95192796e-04, 1.83298071e-03,\n",
              "       4.83293024e-03, 1.27427499e-02, 3.35981829e-02, 8.85866790e-02,\n",
              "       2.33572147e-01, 6.15848211e-01, 1.62377674e+00, 4.28133240e+00,\n",
              "       1.12883789e+01, 2.97635144e+01, 7.84759970e+01, 2.06913808e+02,\n",
              "       5.45559478e+02, 1.43844989e+03, 3.79269019e+03, 1.00000000e+04])},\n",
              "             scoring=&#x27;r2&#x27;)</pre></div> </div></div><div class=\"sk-parallel\"><div class=\"sk-parallel-item\"><div class=\"sk-item\"><div class=\"sk-label-container\"><div class=\"sk-label fitted sk-toggleable\"><input class=\"sk-toggleable__control sk-hidden--visually\" id=\"sk-estimator-id-2\" type=\"checkbox\" ><label for=\"sk-estimator-id-2\" class=\"sk-toggleable__label fitted sk-toggleable__label-arrow\"><div><div>best_estimator_: Lava</div></div></label><div class=\"sk-toggleable__content fitted\"><pre>Lava(alpha1=0.08858667904100823, alpha2=1438.44988828766)</pre></div> </div></div><div class=\"sk-serial\"><div class=\"sk-item\"><div class=\"sk-estimator fitted sk-toggleable\"><input class=\"sk-toggleable__control sk-hidden--visually\" id=\"sk-estimator-id-3\" type=\"checkbox\" ><label for=\"sk-estimator-id-3\" class=\"sk-toggleable__label fitted sk-toggleable__label-arrow\"><div><div>Lava</div></div></label><div class=\"sk-toggleable__content fitted\"><pre>Lava(alpha1=0.08858667904100823, alpha2=1438.44988828766)</pre></div> </div></div></div></div></div></div></div></div></div>"
            ]
          },
          "metadata": {},
          "execution_count": 18
        }
      ],
      "source": [
        "lava = GridSearchCV(\n",
        "    Lava(),\n",
        "    {'alpha1': np.logspace(-4, 4, 20), 'alpha2': np.logspace(-4, 4, 20)},  # Search over 20x20 grid\n",
        "    scoring='r2',     # Optimize for R² (goodness of fit)\n",
        "    n_jobs=-1        # Use all available CPU cores for faster computation\n",
        ")\n",
        "lava.fit(X, y)      # Finds the best alpha1 and alpha2"
      ]
    },
    {
      "cell_type": "code",
      "execution_count": null,
      "metadata": {
        "id": "bOLdzf7tNXxz",
        "colab": {
          "base_uri": "https://localhost:8080/",
          "height": 79
        },
        "outputId": "99b4c152-5821-43dd-a4af-9f02f3f99840"
      },
      "outputs": [
        {
          "output_type": "execute_result",
          "data": {
            "text/plain": [
              "Lava(alpha1=0.08858667904100823, alpha2=1438.44988828766)"
            ],
            "text/html": [
              "<style>#sk-container-id-2 {\n",
              "  /* Definition of color scheme common for light and dark mode */\n",
              "  --sklearn-color-text: #000;\n",
              "  --sklearn-color-text-muted: #666;\n",
              "  --sklearn-color-line: gray;\n",
              "  /* Definition of color scheme for unfitted estimators */\n",
              "  --sklearn-color-unfitted-level-0: #fff5e6;\n",
              "  --sklearn-color-unfitted-level-1: #f6e4d2;\n",
              "  --sklearn-color-unfitted-level-2: #ffe0b3;\n",
              "  --sklearn-color-unfitted-level-3: chocolate;\n",
              "  /* Definition of color scheme for fitted estimators */\n",
              "  --sklearn-color-fitted-level-0: #f0f8ff;\n",
              "  --sklearn-color-fitted-level-1: #d4ebff;\n",
              "  --sklearn-color-fitted-level-2: #b3dbfd;\n",
              "  --sklearn-color-fitted-level-3: cornflowerblue;\n",
              "\n",
              "  /* Specific color for light theme */\n",
              "  --sklearn-color-text-on-default-background: var(--sg-text-color, var(--theme-code-foreground, var(--jp-content-font-color1, black)));\n",
              "  --sklearn-color-background: var(--sg-background-color, var(--theme-background, var(--jp-layout-color0, white)));\n",
              "  --sklearn-color-border-box: var(--sg-text-color, var(--theme-code-foreground, var(--jp-content-font-color1, black)));\n",
              "  --sklearn-color-icon: #696969;\n",
              "\n",
              "  @media (prefers-color-scheme: dark) {\n",
              "    /* Redefinition of color scheme for dark theme */\n",
              "    --sklearn-color-text-on-default-background: var(--sg-text-color, var(--theme-code-foreground, var(--jp-content-font-color1, white)));\n",
              "    --sklearn-color-background: var(--sg-background-color, var(--theme-background, var(--jp-layout-color0, #111)));\n",
              "    --sklearn-color-border-box: var(--sg-text-color, var(--theme-code-foreground, var(--jp-content-font-color1, white)));\n",
              "    --sklearn-color-icon: #878787;\n",
              "  }\n",
              "}\n",
              "\n",
              "#sk-container-id-2 {\n",
              "  color: var(--sklearn-color-text);\n",
              "}\n",
              "\n",
              "#sk-container-id-2 pre {\n",
              "  padding: 0;\n",
              "}\n",
              "\n",
              "#sk-container-id-2 input.sk-hidden--visually {\n",
              "  border: 0;\n",
              "  clip: rect(1px 1px 1px 1px);\n",
              "  clip: rect(1px, 1px, 1px, 1px);\n",
              "  height: 1px;\n",
              "  margin: -1px;\n",
              "  overflow: hidden;\n",
              "  padding: 0;\n",
              "  position: absolute;\n",
              "  width: 1px;\n",
              "}\n",
              "\n",
              "#sk-container-id-2 div.sk-dashed-wrapped {\n",
              "  border: 1px dashed var(--sklearn-color-line);\n",
              "  margin: 0 0.4em 0.5em 0.4em;\n",
              "  box-sizing: border-box;\n",
              "  padding-bottom: 0.4em;\n",
              "  background-color: var(--sklearn-color-background);\n",
              "}\n",
              "\n",
              "#sk-container-id-2 div.sk-container {\n",
              "  /* jupyter's `normalize.less` sets `[hidden] { display: none; }`\n",
              "     but bootstrap.min.css set `[hidden] { display: none !important; }`\n",
              "     so we also need the `!important` here to be able to override the\n",
              "     default hidden behavior on the sphinx rendered scikit-learn.org.\n",
              "     See: https://github.com/scikit-learn/scikit-learn/issues/21755 */\n",
              "  display: inline-block !important;\n",
              "  position: relative;\n",
              "}\n",
              "\n",
              "#sk-container-id-2 div.sk-text-repr-fallback {\n",
              "  display: none;\n",
              "}\n",
              "\n",
              "div.sk-parallel-item,\n",
              "div.sk-serial,\n",
              "div.sk-item {\n",
              "  /* draw centered vertical line to link estimators */\n",
              "  background-image: linear-gradient(var(--sklearn-color-text-on-default-background), var(--sklearn-color-text-on-default-background));\n",
              "  background-size: 2px 100%;\n",
              "  background-repeat: no-repeat;\n",
              "  background-position: center center;\n",
              "}\n",
              "\n",
              "/* Parallel-specific style estimator block */\n",
              "\n",
              "#sk-container-id-2 div.sk-parallel-item::after {\n",
              "  content: \"\";\n",
              "  width: 100%;\n",
              "  border-bottom: 2px solid var(--sklearn-color-text-on-default-background);\n",
              "  flex-grow: 1;\n",
              "}\n",
              "\n",
              "#sk-container-id-2 div.sk-parallel {\n",
              "  display: flex;\n",
              "  align-items: stretch;\n",
              "  justify-content: center;\n",
              "  background-color: var(--sklearn-color-background);\n",
              "  position: relative;\n",
              "}\n",
              "\n",
              "#sk-container-id-2 div.sk-parallel-item {\n",
              "  display: flex;\n",
              "  flex-direction: column;\n",
              "}\n",
              "\n",
              "#sk-container-id-2 div.sk-parallel-item:first-child::after {\n",
              "  align-self: flex-end;\n",
              "  width: 50%;\n",
              "}\n",
              "\n",
              "#sk-container-id-2 div.sk-parallel-item:last-child::after {\n",
              "  align-self: flex-start;\n",
              "  width: 50%;\n",
              "}\n",
              "\n",
              "#sk-container-id-2 div.sk-parallel-item:only-child::after {\n",
              "  width: 0;\n",
              "}\n",
              "\n",
              "/* Serial-specific style estimator block */\n",
              "\n",
              "#sk-container-id-2 div.sk-serial {\n",
              "  display: flex;\n",
              "  flex-direction: column;\n",
              "  align-items: center;\n",
              "  background-color: var(--sklearn-color-background);\n",
              "  padding-right: 1em;\n",
              "  padding-left: 1em;\n",
              "}\n",
              "\n",
              "\n",
              "/* Toggleable style: style used for estimator/Pipeline/ColumnTransformer box that is\n",
              "clickable and can be expanded/collapsed.\n",
              "- Pipeline and ColumnTransformer use this feature and define the default style\n",
              "- Estimators will overwrite some part of the style using the `sk-estimator` class\n",
              "*/\n",
              "\n",
              "/* Pipeline and ColumnTransformer style (default) */\n",
              "\n",
              "#sk-container-id-2 div.sk-toggleable {\n",
              "  /* Default theme specific background. It is overwritten whether we have a\n",
              "  specific estimator or a Pipeline/ColumnTransformer */\n",
              "  background-color: var(--sklearn-color-background);\n",
              "}\n",
              "\n",
              "/* Toggleable label */\n",
              "#sk-container-id-2 label.sk-toggleable__label {\n",
              "  cursor: pointer;\n",
              "  display: flex;\n",
              "  width: 100%;\n",
              "  margin-bottom: 0;\n",
              "  padding: 0.5em;\n",
              "  box-sizing: border-box;\n",
              "  text-align: center;\n",
              "  align-items: start;\n",
              "  justify-content: space-between;\n",
              "  gap: 0.5em;\n",
              "}\n",
              "\n",
              "#sk-container-id-2 label.sk-toggleable__label .caption {\n",
              "  font-size: 0.6rem;\n",
              "  font-weight: lighter;\n",
              "  color: var(--sklearn-color-text-muted);\n",
              "}\n",
              "\n",
              "#sk-container-id-2 label.sk-toggleable__label-arrow:before {\n",
              "  /* Arrow on the left of the label */\n",
              "  content: \"▸\";\n",
              "  float: left;\n",
              "  margin-right: 0.25em;\n",
              "  color: var(--sklearn-color-icon);\n",
              "}\n",
              "\n",
              "#sk-container-id-2 label.sk-toggleable__label-arrow:hover:before {\n",
              "  color: var(--sklearn-color-text);\n",
              "}\n",
              "\n",
              "/* Toggleable content - dropdown */\n",
              "\n",
              "#sk-container-id-2 div.sk-toggleable__content {\n",
              "  max-height: 0;\n",
              "  max-width: 0;\n",
              "  overflow: hidden;\n",
              "  text-align: left;\n",
              "  /* unfitted */\n",
              "  background-color: var(--sklearn-color-unfitted-level-0);\n",
              "}\n",
              "\n",
              "#sk-container-id-2 div.sk-toggleable__content.fitted {\n",
              "  /* fitted */\n",
              "  background-color: var(--sklearn-color-fitted-level-0);\n",
              "}\n",
              "\n",
              "#sk-container-id-2 div.sk-toggleable__content pre {\n",
              "  margin: 0.2em;\n",
              "  border-radius: 0.25em;\n",
              "  color: var(--sklearn-color-text);\n",
              "  /* unfitted */\n",
              "  background-color: var(--sklearn-color-unfitted-level-0);\n",
              "}\n",
              "\n",
              "#sk-container-id-2 div.sk-toggleable__content.fitted pre {\n",
              "  /* unfitted */\n",
              "  background-color: var(--sklearn-color-fitted-level-0);\n",
              "}\n",
              "\n",
              "#sk-container-id-2 input.sk-toggleable__control:checked~div.sk-toggleable__content {\n",
              "  /* Expand drop-down */\n",
              "  max-height: 200px;\n",
              "  max-width: 100%;\n",
              "  overflow: auto;\n",
              "}\n",
              "\n",
              "#sk-container-id-2 input.sk-toggleable__control:checked~label.sk-toggleable__label-arrow:before {\n",
              "  content: \"▾\";\n",
              "}\n",
              "\n",
              "/* Pipeline/ColumnTransformer-specific style */\n",
              "\n",
              "#sk-container-id-2 div.sk-label input.sk-toggleable__control:checked~label.sk-toggleable__label {\n",
              "  color: var(--sklearn-color-text);\n",
              "  background-color: var(--sklearn-color-unfitted-level-2);\n",
              "}\n",
              "\n",
              "#sk-container-id-2 div.sk-label.fitted input.sk-toggleable__control:checked~label.sk-toggleable__label {\n",
              "  background-color: var(--sklearn-color-fitted-level-2);\n",
              "}\n",
              "\n",
              "/* Estimator-specific style */\n",
              "\n",
              "/* Colorize estimator box */\n",
              "#sk-container-id-2 div.sk-estimator input.sk-toggleable__control:checked~label.sk-toggleable__label {\n",
              "  /* unfitted */\n",
              "  background-color: var(--sklearn-color-unfitted-level-2);\n",
              "}\n",
              "\n",
              "#sk-container-id-2 div.sk-estimator.fitted input.sk-toggleable__control:checked~label.sk-toggleable__label {\n",
              "  /* fitted */\n",
              "  background-color: var(--sklearn-color-fitted-level-2);\n",
              "}\n",
              "\n",
              "#sk-container-id-2 div.sk-label label.sk-toggleable__label,\n",
              "#sk-container-id-2 div.sk-label label {\n",
              "  /* The background is the default theme color */\n",
              "  color: var(--sklearn-color-text-on-default-background);\n",
              "}\n",
              "\n",
              "/* On hover, darken the color of the background */\n",
              "#sk-container-id-2 div.sk-label:hover label.sk-toggleable__label {\n",
              "  color: var(--sklearn-color-text);\n",
              "  background-color: var(--sklearn-color-unfitted-level-2);\n",
              "}\n",
              "\n",
              "/* Label box, darken color on hover, fitted */\n",
              "#sk-container-id-2 div.sk-label.fitted:hover label.sk-toggleable__label.fitted {\n",
              "  color: var(--sklearn-color-text);\n",
              "  background-color: var(--sklearn-color-fitted-level-2);\n",
              "}\n",
              "\n",
              "/* Estimator label */\n",
              "\n",
              "#sk-container-id-2 div.sk-label label {\n",
              "  font-family: monospace;\n",
              "  font-weight: bold;\n",
              "  display: inline-block;\n",
              "  line-height: 1.2em;\n",
              "}\n",
              "\n",
              "#sk-container-id-2 div.sk-label-container {\n",
              "  text-align: center;\n",
              "}\n",
              "\n",
              "/* Estimator-specific */\n",
              "#sk-container-id-2 div.sk-estimator {\n",
              "  font-family: monospace;\n",
              "  border: 1px dotted var(--sklearn-color-border-box);\n",
              "  border-radius: 0.25em;\n",
              "  box-sizing: border-box;\n",
              "  margin-bottom: 0.5em;\n",
              "  /* unfitted */\n",
              "  background-color: var(--sklearn-color-unfitted-level-0);\n",
              "}\n",
              "\n",
              "#sk-container-id-2 div.sk-estimator.fitted {\n",
              "  /* fitted */\n",
              "  background-color: var(--sklearn-color-fitted-level-0);\n",
              "}\n",
              "\n",
              "/* on hover */\n",
              "#sk-container-id-2 div.sk-estimator:hover {\n",
              "  /* unfitted */\n",
              "  background-color: var(--sklearn-color-unfitted-level-2);\n",
              "}\n",
              "\n",
              "#sk-container-id-2 div.sk-estimator.fitted:hover {\n",
              "  /* fitted */\n",
              "  background-color: var(--sklearn-color-fitted-level-2);\n",
              "}\n",
              "\n",
              "/* Specification for estimator info (e.g. \"i\" and \"?\") */\n",
              "\n",
              "/* Common style for \"i\" and \"?\" */\n",
              "\n",
              ".sk-estimator-doc-link,\n",
              "a:link.sk-estimator-doc-link,\n",
              "a:visited.sk-estimator-doc-link {\n",
              "  float: right;\n",
              "  font-size: smaller;\n",
              "  line-height: 1em;\n",
              "  font-family: monospace;\n",
              "  background-color: var(--sklearn-color-background);\n",
              "  border-radius: 1em;\n",
              "  height: 1em;\n",
              "  width: 1em;\n",
              "  text-decoration: none !important;\n",
              "  margin-left: 0.5em;\n",
              "  text-align: center;\n",
              "  /* unfitted */\n",
              "  border: var(--sklearn-color-unfitted-level-1) 1pt solid;\n",
              "  color: var(--sklearn-color-unfitted-level-1);\n",
              "}\n",
              "\n",
              ".sk-estimator-doc-link.fitted,\n",
              "a:link.sk-estimator-doc-link.fitted,\n",
              "a:visited.sk-estimator-doc-link.fitted {\n",
              "  /* fitted */\n",
              "  border: var(--sklearn-color-fitted-level-1) 1pt solid;\n",
              "  color: var(--sklearn-color-fitted-level-1);\n",
              "}\n",
              "\n",
              "/* On hover */\n",
              "div.sk-estimator:hover .sk-estimator-doc-link:hover,\n",
              ".sk-estimator-doc-link:hover,\n",
              "div.sk-label-container:hover .sk-estimator-doc-link:hover,\n",
              ".sk-estimator-doc-link:hover {\n",
              "  /* unfitted */\n",
              "  background-color: var(--sklearn-color-unfitted-level-3);\n",
              "  color: var(--sklearn-color-background);\n",
              "  text-decoration: none;\n",
              "}\n",
              "\n",
              "div.sk-estimator.fitted:hover .sk-estimator-doc-link.fitted:hover,\n",
              ".sk-estimator-doc-link.fitted:hover,\n",
              "div.sk-label-container:hover .sk-estimator-doc-link.fitted:hover,\n",
              ".sk-estimator-doc-link.fitted:hover {\n",
              "  /* fitted */\n",
              "  background-color: var(--sklearn-color-fitted-level-3);\n",
              "  color: var(--sklearn-color-background);\n",
              "  text-decoration: none;\n",
              "}\n",
              "\n",
              "/* Span, style for the box shown on hovering the info icon */\n",
              ".sk-estimator-doc-link span {\n",
              "  display: none;\n",
              "  z-index: 9999;\n",
              "  position: relative;\n",
              "  font-weight: normal;\n",
              "  right: .2ex;\n",
              "  padding: .5ex;\n",
              "  margin: .5ex;\n",
              "  width: min-content;\n",
              "  min-width: 20ex;\n",
              "  max-width: 50ex;\n",
              "  color: var(--sklearn-color-text);\n",
              "  box-shadow: 2pt 2pt 4pt #999;\n",
              "  /* unfitted */\n",
              "  background: var(--sklearn-color-unfitted-level-0);\n",
              "  border: .5pt solid var(--sklearn-color-unfitted-level-3);\n",
              "}\n",
              "\n",
              ".sk-estimator-doc-link.fitted span {\n",
              "  /* fitted */\n",
              "  background: var(--sklearn-color-fitted-level-0);\n",
              "  border: var(--sklearn-color-fitted-level-3);\n",
              "}\n",
              "\n",
              ".sk-estimator-doc-link:hover span {\n",
              "  display: block;\n",
              "}\n",
              "\n",
              "/* \"?\"-specific style due to the `<a>` HTML tag */\n",
              "\n",
              "#sk-container-id-2 a.estimator_doc_link {\n",
              "  float: right;\n",
              "  font-size: 1rem;\n",
              "  line-height: 1em;\n",
              "  font-family: monospace;\n",
              "  background-color: var(--sklearn-color-background);\n",
              "  border-radius: 1rem;\n",
              "  height: 1rem;\n",
              "  width: 1rem;\n",
              "  text-decoration: none;\n",
              "  /* unfitted */\n",
              "  color: var(--sklearn-color-unfitted-level-1);\n",
              "  border: var(--sklearn-color-unfitted-level-1) 1pt solid;\n",
              "}\n",
              "\n",
              "#sk-container-id-2 a.estimator_doc_link.fitted {\n",
              "  /* fitted */\n",
              "  border: var(--sklearn-color-fitted-level-1) 1pt solid;\n",
              "  color: var(--sklearn-color-fitted-level-1);\n",
              "}\n",
              "\n",
              "/* On hover */\n",
              "#sk-container-id-2 a.estimator_doc_link:hover {\n",
              "  /* unfitted */\n",
              "  background-color: var(--sklearn-color-unfitted-level-3);\n",
              "  color: var(--sklearn-color-background);\n",
              "  text-decoration: none;\n",
              "}\n",
              "\n",
              "#sk-container-id-2 a.estimator_doc_link.fitted:hover {\n",
              "  /* fitted */\n",
              "  background-color: var(--sklearn-color-fitted-level-3);\n",
              "}\n",
              "</style><div id=\"sk-container-id-2\" class=\"sk-top-container\"><div class=\"sk-text-repr-fallback\"><pre>Lava(alpha1=0.08858667904100823, alpha2=1438.44988828766)</pre><b>In a Jupyter environment, please rerun this cell to show the HTML representation or trust the notebook. <br />On GitHub, the HTML representation is unable to render, please try loading this page with nbviewer.org.</b></div><div class=\"sk-container\" hidden><div class=\"sk-item\"><div class=\"sk-estimator fitted sk-toggleable\"><input class=\"sk-toggleable__control sk-hidden--visually\" id=\"sk-estimator-id-4\" type=\"checkbox\" checked><label for=\"sk-estimator-id-4\" class=\"sk-toggleable__label fitted sk-toggleable__label-arrow\"><div><div>Lava</div></div><div><span class=\"sk-estimator-doc-link fitted\">i<span>Fitted</span></span></div></label><div class=\"sk-toggleable__content fitted\"><pre>Lava(alpha1=0.08858667904100823, alpha2=1438.44988828766)</pre></div> </div></div></div></div>"
            ]
          },
          "metadata": {},
          "execution_count": 19
        }
      ],
      "source": [
        "lava.best_estimator_"
      ]
    },
    {
      "cell_type": "code",
      "execution_count": null,
      "metadata": {
        "id": "0ZYyTCh3NXxz",
        "colab": {
          "base_uri": "https://localhost:8080/"
        },
        "outputId": "8b6f008b-f4fd-42e9-9001-d33db68f2965"
      },
      "outputs": [
        {
          "output_type": "execute_result",
          "data": {
            "text/plain": [
              "0.766953234587289"
            ]
          },
          "metadata": {},
          "execution_count": 20
        }
      ],
      "source": [
        "# Predict on the test set using the best LAVA model\n",
        "r2_lava = r2_score(ytest, lava.predict(Xtest))\n",
        "\n",
        "# Display the R² value\n",
        "r2_lava\n"
      ]
    },
    {
      "cell_type": "markdown",
      "source": [
        "What Does This R² Represent?\n",
        "- Measures how well the tuned LAVA model generalizes to unseen data.\n",
        "- High R² (closer to 1) → Better predictive performance.\n",
        "- Compared to Lasso, Ridge, and Elastic Net, LAVA often achieves a balance between sparsity and stability."
      ],
      "metadata": {
        "id": "s9R2QiEYfNuh"
      }
    },
    {
      "cell_type": "code",
      "execution_count": null,
      "metadata": {
        "id": "Y5GuiuJMNXxz",
        "colab": {
          "base_uri": "https://localhost:8080/"
        },
        "outputId": "0120fdac-e2fc-4fca-cd16-a000066a2345"
      },
      "outputs": [
        {
          "output_type": "execute_result",
          "data": {
            "text/plain": [
              "0.7447156075483647"
            ]
          },
          "metadata": {},
          "execution_count": 21
        }
      ],
      "source": [
        "# Predict on the population dataset using the best LAVA model\n",
        "r2_lava = r2_score(ypop, lava.predict(Xpop))\n",
        "\n",
        "# Output the population R²\n",
        "r2_lava"
      ]
    },
    {
      "cell_type": "markdown",
      "source": [
        "Why Population R²?\n",
        "- Provides a robust measure of true model generalization.\n",
        "- Reduces variability compared to test set evaluation.\n",
        "-  Helpful in high-dimensional settings (p >> n) where test-set R² can fluctuate."
      ],
      "metadata": {
        "id": "lYN8KL09faLz"
      }
    },
    {
      "cell_type": "markdown",
      "metadata": {
        "id": "T9X2dSkxNXxz"
      },
      "source": [
        "## Summarizing Results"
      ]
    },
    {
      "cell_type": "code",
      "execution_count": null,
      "metadata": {
        "id": "uGp1L54WNXxz",
        "colab": {
          "base_uri": "https://localhost:8080/",
          "height": 237
        },
        "outputId": "82fff61a-74c8-4c19-ebe2-9d45d814fb72"
      },
      "outputs": [
        {
          "output_type": "execute_result",
          "data": {
            "text/plain": [
              "              Population R-squared\n",
              "LassoCV                   0.757418\n",
              "RidgeCV                   0.158612\n",
              "ElasticNetCV              0.545320\n",
              "RLasso                    0.755733\n",
              "RLassoOLS                 0.792827\n",
              "Lava                      0.744716"
            ],
            "text/html": [
              "\n",
              "  <div id=\"df-56264c54-951b-4eba-bf9e-09073f70747f\" class=\"colab-df-container\">\n",
              "    <div>\n",
              "<style scoped>\n",
              "    .dataframe tbody tr th:only-of-type {\n",
              "        vertical-align: middle;\n",
              "    }\n",
              "\n",
              "    .dataframe tbody tr th {\n",
              "        vertical-align: top;\n",
              "    }\n",
              "\n",
              "    .dataframe thead th {\n",
              "        text-align: right;\n",
              "    }\n",
              "</style>\n",
              "<table border=\"1\" class=\"dataframe\">\n",
              "  <thead>\n",
              "    <tr style=\"text-align: right;\">\n",
              "      <th></th>\n",
              "      <th>Population R-squared</th>\n",
              "    </tr>\n",
              "  </thead>\n",
              "  <tbody>\n",
              "    <tr>\n",
              "      <th>LassoCV</th>\n",
              "      <td>0.757418</td>\n",
              "    </tr>\n",
              "    <tr>\n",
              "      <th>RidgeCV</th>\n",
              "      <td>0.158612</td>\n",
              "    </tr>\n",
              "    <tr>\n",
              "      <th>ElasticNetCV</th>\n",
              "      <td>0.545320</td>\n",
              "    </tr>\n",
              "    <tr>\n",
              "      <th>RLasso</th>\n",
              "      <td>0.755733</td>\n",
              "    </tr>\n",
              "    <tr>\n",
              "      <th>RLassoOLS</th>\n",
              "      <td>0.792827</td>\n",
              "    </tr>\n",
              "    <tr>\n",
              "      <th>Lava</th>\n",
              "      <td>0.744716</td>\n",
              "    </tr>\n",
              "  </tbody>\n",
              "</table>\n",
              "</div>\n",
              "    <div class=\"colab-df-buttons\">\n",
              "\n",
              "  <div class=\"colab-df-container\">\n",
              "    <button class=\"colab-df-convert\" onclick=\"convertToInteractive('df-56264c54-951b-4eba-bf9e-09073f70747f')\"\n",
              "            title=\"Convert this dataframe to an interactive table.\"\n",
              "            style=\"display:none;\">\n",
              "\n",
              "  <svg xmlns=\"http://www.w3.org/2000/svg\" height=\"24px\" viewBox=\"0 -960 960 960\">\n",
              "    <path d=\"M120-120v-720h720v720H120Zm60-500h600v-160H180v160Zm220 220h160v-160H400v160Zm0 220h160v-160H400v160ZM180-400h160v-160H180v160Zm440 0h160v-160H620v160ZM180-180h160v-160H180v160Zm440 0h160v-160H620v160Z\"/>\n",
              "  </svg>\n",
              "    </button>\n",
              "\n",
              "  <style>\n",
              "    .colab-df-container {\n",
              "      display:flex;\n",
              "      gap: 12px;\n",
              "    }\n",
              "\n",
              "    .colab-df-convert {\n",
              "      background-color: #E8F0FE;\n",
              "      border: none;\n",
              "      border-radius: 50%;\n",
              "      cursor: pointer;\n",
              "      display: none;\n",
              "      fill: #1967D2;\n",
              "      height: 32px;\n",
              "      padding: 0 0 0 0;\n",
              "      width: 32px;\n",
              "    }\n",
              "\n",
              "    .colab-df-convert:hover {\n",
              "      background-color: #E2EBFA;\n",
              "      box-shadow: 0px 1px 2px rgba(60, 64, 67, 0.3), 0px 1px 3px 1px rgba(60, 64, 67, 0.15);\n",
              "      fill: #174EA6;\n",
              "    }\n",
              "\n",
              "    .colab-df-buttons div {\n",
              "      margin-bottom: 4px;\n",
              "    }\n",
              "\n",
              "    [theme=dark] .colab-df-convert {\n",
              "      background-color: #3B4455;\n",
              "      fill: #D2E3FC;\n",
              "    }\n",
              "\n",
              "    [theme=dark] .colab-df-convert:hover {\n",
              "      background-color: #434B5C;\n",
              "      box-shadow: 0px 1px 3px 1px rgba(0, 0, 0, 0.15);\n",
              "      filter: drop-shadow(0px 1px 2px rgba(0, 0, 0, 0.3));\n",
              "      fill: #FFFFFF;\n",
              "    }\n",
              "  </style>\n",
              "\n",
              "    <script>\n",
              "      const buttonEl =\n",
              "        document.querySelector('#df-56264c54-951b-4eba-bf9e-09073f70747f button.colab-df-convert');\n",
              "      buttonEl.style.display =\n",
              "        google.colab.kernel.accessAllowed ? 'block' : 'none';\n",
              "\n",
              "      async function convertToInteractive(key) {\n",
              "        const element = document.querySelector('#df-56264c54-951b-4eba-bf9e-09073f70747f');\n",
              "        const dataTable =\n",
              "          await google.colab.kernel.invokeFunction('convertToInteractive',\n",
              "                                                    [key], {});\n",
              "        if (!dataTable) return;\n",
              "\n",
              "        const docLinkHtml = 'Like what you see? Visit the ' +\n",
              "          '<a target=\"_blank\" href=https://colab.research.google.com/notebooks/data_table.ipynb>data table notebook</a>'\n",
              "          + ' to learn more about interactive tables.';\n",
              "        element.innerHTML = '';\n",
              "        dataTable['output_type'] = 'display_data';\n",
              "        await google.colab.output.renderOutput(dataTable, element);\n",
              "        const docLink = document.createElement('div');\n",
              "        docLink.innerHTML = docLinkHtml;\n",
              "        element.appendChild(docLink);\n",
              "      }\n",
              "    </script>\n",
              "  </div>\n",
              "\n",
              "\n",
              "<div id=\"df-158be299-e6d6-4e6d-ba01-8996c3378b00\">\n",
              "  <button class=\"colab-df-quickchart\" onclick=\"quickchart('df-158be299-e6d6-4e6d-ba01-8996c3378b00')\"\n",
              "            title=\"Suggest charts\"\n",
              "            style=\"display:none;\">\n",
              "\n",
              "<svg xmlns=\"http://www.w3.org/2000/svg\" height=\"24px\"viewBox=\"0 0 24 24\"\n",
              "     width=\"24px\">\n",
              "    <g>\n",
              "        <path d=\"M19 3H5c-1.1 0-2 .9-2 2v14c0 1.1.9 2 2 2h14c1.1 0 2-.9 2-2V5c0-1.1-.9-2-2-2zM9 17H7v-7h2v7zm4 0h-2V7h2v10zm4 0h-2v-4h2v4z\"/>\n",
              "    </g>\n",
              "</svg>\n",
              "  </button>\n",
              "\n",
              "<style>\n",
              "  .colab-df-quickchart {\n",
              "      --bg-color: #E8F0FE;\n",
              "      --fill-color: #1967D2;\n",
              "      --hover-bg-color: #E2EBFA;\n",
              "      --hover-fill-color: #174EA6;\n",
              "      --disabled-fill-color: #AAA;\n",
              "      --disabled-bg-color: #DDD;\n",
              "  }\n",
              "\n",
              "  [theme=dark] .colab-df-quickchart {\n",
              "      --bg-color: #3B4455;\n",
              "      --fill-color: #D2E3FC;\n",
              "      --hover-bg-color: #434B5C;\n",
              "      --hover-fill-color: #FFFFFF;\n",
              "      --disabled-bg-color: #3B4455;\n",
              "      --disabled-fill-color: #666;\n",
              "  }\n",
              "\n",
              "  .colab-df-quickchart {\n",
              "    background-color: var(--bg-color);\n",
              "    border: none;\n",
              "    border-radius: 50%;\n",
              "    cursor: pointer;\n",
              "    display: none;\n",
              "    fill: var(--fill-color);\n",
              "    height: 32px;\n",
              "    padding: 0;\n",
              "    width: 32px;\n",
              "  }\n",
              "\n",
              "  .colab-df-quickchart:hover {\n",
              "    background-color: var(--hover-bg-color);\n",
              "    box-shadow: 0 1px 2px rgba(60, 64, 67, 0.3), 0 1px 3px 1px rgba(60, 64, 67, 0.15);\n",
              "    fill: var(--button-hover-fill-color);\n",
              "  }\n",
              "\n",
              "  .colab-df-quickchart-complete:disabled,\n",
              "  .colab-df-quickchart-complete:disabled:hover {\n",
              "    background-color: var(--disabled-bg-color);\n",
              "    fill: var(--disabled-fill-color);\n",
              "    box-shadow: none;\n",
              "  }\n",
              "\n",
              "  .colab-df-spinner {\n",
              "    border: 2px solid var(--fill-color);\n",
              "    border-color: transparent;\n",
              "    border-bottom-color: var(--fill-color);\n",
              "    animation:\n",
              "      spin 1s steps(1) infinite;\n",
              "  }\n",
              "\n",
              "  @keyframes spin {\n",
              "    0% {\n",
              "      border-color: transparent;\n",
              "      border-bottom-color: var(--fill-color);\n",
              "      border-left-color: var(--fill-color);\n",
              "    }\n",
              "    20% {\n",
              "      border-color: transparent;\n",
              "      border-left-color: var(--fill-color);\n",
              "      border-top-color: var(--fill-color);\n",
              "    }\n",
              "    30% {\n",
              "      border-color: transparent;\n",
              "      border-left-color: var(--fill-color);\n",
              "      border-top-color: var(--fill-color);\n",
              "      border-right-color: var(--fill-color);\n",
              "    }\n",
              "    40% {\n",
              "      border-color: transparent;\n",
              "      border-right-color: var(--fill-color);\n",
              "      border-top-color: var(--fill-color);\n",
              "    }\n",
              "    60% {\n",
              "      border-color: transparent;\n",
              "      border-right-color: var(--fill-color);\n",
              "    }\n",
              "    80% {\n",
              "      border-color: transparent;\n",
              "      border-right-color: var(--fill-color);\n",
              "      border-bottom-color: var(--fill-color);\n",
              "    }\n",
              "    90% {\n",
              "      border-color: transparent;\n",
              "      border-bottom-color: var(--fill-color);\n",
              "    }\n",
              "  }\n",
              "</style>\n",
              "\n",
              "  <script>\n",
              "    async function quickchart(key) {\n",
              "      const quickchartButtonEl =\n",
              "        document.querySelector('#' + key + ' button');\n",
              "      quickchartButtonEl.disabled = true;  // To prevent multiple clicks.\n",
              "      quickchartButtonEl.classList.add('colab-df-spinner');\n",
              "      try {\n",
              "        const charts = await google.colab.kernel.invokeFunction(\n",
              "            'suggestCharts', [key], {});\n",
              "      } catch (error) {\n",
              "        console.error('Error during call to suggestCharts:', error);\n",
              "      }\n",
              "      quickchartButtonEl.classList.remove('colab-df-spinner');\n",
              "      quickchartButtonEl.classList.add('colab-df-quickchart-complete');\n",
              "    }\n",
              "    (() => {\n",
              "      let quickchartButtonEl =\n",
              "        document.querySelector('#df-158be299-e6d6-4e6d-ba01-8996c3378b00 button');\n",
              "      quickchartButtonEl.style.display =\n",
              "        google.colab.kernel.accessAllowed ? 'block' : 'none';\n",
              "    })();\n",
              "  </script>\n",
              "</div>\n",
              "\n",
              "  <div id=\"id_a9b44e52-23c9-42e7-aea7-482078beacb4\">\n",
              "    <style>\n",
              "      .colab-df-generate {\n",
              "        background-color: #E8F0FE;\n",
              "        border: none;\n",
              "        border-radius: 50%;\n",
              "        cursor: pointer;\n",
              "        display: none;\n",
              "        fill: #1967D2;\n",
              "        height: 32px;\n",
              "        padding: 0 0 0 0;\n",
              "        width: 32px;\n",
              "      }\n",
              "\n",
              "      .colab-df-generate:hover {\n",
              "        background-color: #E2EBFA;\n",
              "        box-shadow: 0px 1px 2px rgba(60, 64, 67, 0.3), 0px 1px 3px 1px rgba(60, 64, 67, 0.15);\n",
              "        fill: #174EA6;\n",
              "      }\n",
              "\n",
              "      [theme=dark] .colab-df-generate {\n",
              "        background-color: #3B4455;\n",
              "        fill: #D2E3FC;\n",
              "      }\n",
              "\n",
              "      [theme=dark] .colab-df-generate:hover {\n",
              "        background-color: #434B5C;\n",
              "        box-shadow: 0px 1px 3px 1px rgba(0, 0, 0, 0.15);\n",
              "        filter: drop-shadow(0px 1px 2px rgba(0, 0, 0, 0.3));\n",
              "        fill: #FFFFFF;\n",
              "      }\n",
              "    </style>\n",
              "    <button class=\"colab-df-generate\" onclick=\"generateWithVariable('df')\"\n",
              "            title=\"Generate code using this dataframe.\"\n",
              "            style=\"display:none;\">\n",
              "\n",
              "  <svg xmlns=\"http://www.w3.org/2000/svg\" height=\"24px\"viewBox=\"0 0 24 24\"\n",
              "       width=\"24px\">\n",
              "    <path d=\"M7,19H8.4L18.45,9,17,7.55,7,17.6ZM5,21V16.75L18.45,3.32a2,2,0,0,1,2.83,0l1.4,1.43a1.91,1.91,0,0,1,.58,1.4,1.91,1.91,0,0,1-.58,1.4L9.25,21ZM18.45,9,17,7.55Zm-12,3A5.31,5.31,0,0,0,4.9,8.1,5.31,5.31,0,0,0,1,6.5,5.31,5.31,0,0,0,4.9,4.9,5.31,5.31,0,0,0,6.5,1,5.31,5.31,0,0,0,8.1,4.9,5.31,5.31,0,0,0,12,6.5,5.46,5.46,0,0,0,6.5,12Z\"/>\n",
              "  </svg>\n",
              "    </button>\n",
              "    <script>\n",
              "      (() => {\n",
              "      const buttonEl =\n",
              "        document.querySelector('#id_a9b44e52-23c9-42e7-aea7-482078beacb4 button.colab-df-generate');\n",
              "      buttonEl.style.display =\n",
              "        google.colab.kernel.accessAllowed ? 'block' : 'none';\n",
              "\n",
              "      buttonEl.onclick = () => {\n",
              "        google.colab.notebook.generateWithVariable('df');\n",
              "      }\n",
              "      })();\n",
              "    </script>\n",
              "  </div>\n",
              "\n",
              "    </div>\n",
              "  </div>\n"
            ],
            "application/vnd.google.colaboratory.intrinsic+json": {
              "type": "dataframe",
              "variable_name": "df",
              "summary": "{\n  \"name\": \"df\",\n  \"rows\": 6,\n  \"fields\": [\n    {\n      \"column\": \"Population R-squared\",\n      \"properties\": {\n        \"dtype\": \"number\",\n        \"std\": 0.24535141500598245,\n        \"min\": 0.1586121217054628,\n        \"max\": 0.7928273935617625,\n        \"num_unique_values\": 6,\n        \"samples\": [\n          0.7574179170188436,\n          0.1586121217054628,\n          0.7447156075483647\n        ],\n        \"semantic_type\": \"\",\n        \"description\": \"\"\n      }\n    }\n  ]\n}"
            }
          },
          "metadata": {},
          "execution_count": 22
        }
      ],
      "source": [
        "df = pd.DataFrame({'LassoCV': [r2_lcv],\n",
        "                   'RidgeCV': [r2_ridge],\n",
        "                   'ElasticNetCV': [r2_enet],\n",
        "                   'RLasso': [r2_rlasso],\n",
        "                   'RLassoOLS': [r2_rlasso_post],\n",
        "                   'Lava': [r2_lava]}).T\n",
        "df.columns = ['Population R-squared']\n",
        "df"
      ]
    },
    {
      "cell_type": "code",
      "execution_count": null,
      "metadata": {
        "id": "xB5_jtumNXx0",
        "colab": {
          "base_uri": "https://localhost:8080/"
        },
        "outputId": "bfb56d06-03b6-4a61-c5b3-1d388d13f8e5"
      },
      "outputs": [
        {
          "output_type": "display_data",
          "data": {
            "text/plain": [
              "<Figure size 640x480 with 1 Axes>"
            ],
            "image/png": "[encoded data removed]"
          },
          "metadata": {}
        }
      ],
      "source": [
        "plt.figure()\n",
        "plt.title(\"Different Models for Approximately Sparse Regime\")\n",
        "# 45 degree line\n",
        "plt.plot([np.min(gXtest), np.max(gXtest)], [np.min(gXtest), np.max(gXtest)], color='black', linestyle='--')\n",
        "\n",
        "# different models\n",
        "plt.scatter(gXtest, ridge.predict(Xtest), marker='^', c='brown', s=5, label='Ridge')\n",
        "plt.scatter(gXtest, enet.predict(Xtest), marker='v', c='yellow', s=5, label='ENet')\n",
        "plt.scatter(gXtest, rlasso.predict(Xtest), marker='D', c='red', s=5, label='RLasso')\n",
        "plt.scatter(gXtest, rlasso_post.predict(Xtest), marker='o', c='green', s=5, label='RLasso Post')\n",
        "plt.scatter(gXtest, lcv.predict(Xtest), marker='<', c='blue', s=5, label='LassoCV')\n",
        "plt.scatter(gXtest, lava.predict(Xtest), marker='>', c='magenta', s=5, label='Lava')\n",
        "plt.legend(loc='lower right')\n",
        "\n",
        "plt.show()"
      ]
    },
    {
      "cell_type": "markdown",
      "source": [
        "Insights:\n",
        "1. Alignment with the diagonal line:\n",
        "\n",
        "- Lava, R-Lasso Post, and LassoCV predictions cluster closely around the line → better predictive accuracy.\n",
        "- Ridge predictions show more dispersion → underperforms in sparse settings (due to lack of variable selection).\n",
        "Model Differences in Sparsity Handling:\n",
        "\n",
        "2. Ridge struggles since it shrinks all coefficients, ignoring sparsity.\n",
        "- Lasso-based models (LassoCV, R-Lasso, R-Lasso Post) perform better, highlighting their strength in sparse regimes.\n",
        "- Lava captures both dense and sparse components, leading to robust performance.\n",
        "\n",
        "3. Spread of Predictions:\n",
        "\n",
        "- ENet shows moderate variance—combines L1 and L2 penalties but may not be optimal for pure sparsity.\n",
        "- R-Lasso Post improves over R-Lasso by reducing shrinkage bias."
      ],
      "metadata": {
        "id": "2IyRi_GdfyJB"
      }
    },
    {
      "cell_type": "markdown",
      "metadata": {
        "id": "I_Vf3rmIIGbm"
      },
      "source": [
        "## Data Generating Process: Dense Coefficients"
      ]
    },
    {
      "cell_type": "code",
      "execution_count": null,
      "metadata": {
        "id": "kfTohbAiIMKH"
      },
      "outputs": [],
      "source": [
        "n = 100 # sample size\n",
        "p = 400 # no of predictors\n",
        "X, y, gX, Xtest, ytest, gXtest, Xpop, ypop, gXpop, betas = gen_data(n, p, regime=\"dense\")"
      ]
    },
    {
      "cell_type": "code",
      "execution_count": null,
      "metadata": {
        "id": "SQ5V0IAMIMgI",
        "colab": {
          "base_uri": "https://localhost:8080/",
          "height": 478
        },
        "outputId": "9d5c66f5-4217-45fd-8358-7134fc495d0e"
      },
      "outputs": [
        {
          "output_type": "display_data",
          "data": {
            "text/plain": [
              "<Figure size 640x480 with 1 Axes>"
            ],
            "image/png": "[encoded data removed]"
          },
          "metadata": {}
        }
      ],
      "source": [
        "plt.figure()\n",
        "plt.title(r\"$Y$ vs. $g(X)$\")\n",
        "plt.scatter(gX, y)\n",
        "plt.xlabel(r\"$g(X)$\")\n",
        "plt.ylabel(r\"$Y$\")\n",
        "plt.show()"
      ]
    },
    {
      "cell_type": "code",
      "execution_count": null,
      "metadata": {
        "id": "jwFhvQhAIdR1",
        "colab": {
          "base_uri": "https://localhost:8080/"
        },
        "outputId": "1360a495-692f-47ea-ddcc-0a21af5b30bb"
      },
      "outputs": [
        {
          "output_type": "stream",
          "name": "stdout",
          "text": [
            "theoretical R^2:, 0.8141603102079493\n",
            "theoretical R^2:, 0.815961116632237\n"
          ]
        }
      ],
      "source": [
        "print(f\"theoretical R^2:, {1 - np.var(ypop - gXpop) / np.var(ypop)}\")\n",
        "print(f\"theoretical R^2:, {np.var(gXpop) / np.var(ypop)}\")"
      ]
    },
    {
      "cell_type": "code",
      "execution_count": null,
      "metadata": {
        "id": "1ksRgX46Lj7y",
        "colab": {
          "base_uri": "https://localhost:8080/"
        },
        "outputId": "0449257c-f11f-4862-8bfe-e20906ae894e"
      },
      "outputs": [
        {
          "output_type": "display_data",
          "data": {
            "text/plain": [
              "<Figure size 640x480 with 1 Axes>"
            ],
            "image/png": "[encoded data removed]"
          },
          "metadata": {}
        }
      ],
      "source": [
        "plt.figure()\n",
        "plt.scatter(range(len(betas)), abs(betas), s=5, color='b')\n",
        "plt.xlabel(r'$\\beta$')\n",
        "plt.ylabel('Magnitude (log scale)')\n",
        "plt.title(r'$\\beta$ Magnitude')\n",
        "plt.yscale('log')\n",
        "plt.show()"
      ]
    },
    {
      "cell_type": "code",
      "execution_count": null,
      "metadata": {
        "id": "FpqSFZmtIdX4"
      },
      "outputs": [],
      "source": [
        "# Regressions\n",
        "lcv = LassoCV().fit(X, y)\n",
        "ridge = RidgeCV(alphas=(1, 10, 25, 50, 100)).fit(X, y)\n",
        "enet = ElasticNetCV(l1_ratio=0.5).fit(X, y)\n",
        "rlasso = RLasso(post=False).fit(X, y)\n",
        "rlasso_post = RLasso(post=True).fit(X, y)\n",
        "lava = GridSearchCV(Lava(), {'alpha1': np.logspace(-4, 4, 20), 'alpha2': np.logspace(-4, 4, 20)},\n",
        "                    scoring='r2', n_jobs=-1).fit(X, y)"
      ]
    },
    {
      "cell_type": "code",
      "execution_count": null,
      "metadata": {
        "id": "j-3fkIjDIpOg"
      },
      "outputs": [],
      "source": [
        "r2_lcv = r2_score(ypop, lcv.predict(Xpop))\n",
        "r2_ridge = r2_score(ypop, ridge.predict(Xpop))\n",
        "r2_enet = r2_score(ypop, enet.predict(Xpop))\n",
        "r2_rlasso = r2_score(ypop, rlasso.predict(Xpop))\n",
        "r2_rlasso_post = r2_score(ypop, rlasso_post.predict(Xpop))\n",
        "r2_lava = r2_score(ypop, lava.predict(Xpop))"
      ]
    },
    {
      "cell_type": "code",
      "execution_count": null,
      "metadata": {
        "id": "7-fwE0LiIpTn",
        "colab": {
          "base_uri": "https://localhost:8080/",
          "height": 237
        },
        "outputId": "cca92641-9574-4b21-8716-db7cc6c2ebdb"
      },
      "outputs": [
        {
          "output_type": "execute_result",
          "data": {
            "text/plain": [
              "              Population R-squared\n",
              "LassoCV                   0.009199\n",
              "RidgeCV                   0.111656\n",
              "ElasticNetCV              0.039698\n",
              "RLasso                    0.005752\n",
              "RLassoOLS                -0.061431\n",
              "Lava                      0.107363"
            ],
            "text/html": [
              "\n",
              "  <div id=\"df-7707e98e-a7b8-4c47-ae6d-fd1248e78a56\" class=\"colab-df-container\">\n",
              "    <div>\n",
              "<style scoped>\n",
              "    .dataframe tbody tr th:only-of-type {\n",
              "        vertical-align: middle;\n",
              "    }\n",
              "\n",
              "    .dataframe tbody tr th {\n",
              "        vertical-align: top;\n",
              "    }\n",
              "\n",
              "    .dataframe thead th {\n",
              "        text-align: right;\n",
              "    }\n",
              "</style>\n",
              "<table border=\"1\" class=\"dataframe\">\n",
              "  <thead>\n",
              "    <tr style=\"text-align: right;\">\n",
              "      <th></th>\n",
              "      <th>Population R-squared</th>\n",
              "    </tr>\n",
              "  </thead>\n",
              "  <tbody>\n",
              "    <tr>\n",
              "      <th>LassoCV</th>\n",
              "      <td>0.009199</td>\n",
              "    </tr>\n",
              "    <tr>\n",
              "      <th>RidgeCV</th>\n",
              "      <td>0.111656</td>\n",
              "    </tr>\n",
              "    <tr>\n",
              "      <th>ElasticNetCV</th>\n",
              "      <td>0.039698</td>\n",
              "    </tr>\n",
              "    <tr>\n",
              "      <th>RLasso</th>\n",
              "      <td>0.005752</td>\n",
              "    </tr>\n",
              "    <tr>\n",
              "      <th>RLassoOLS</th>\n",
              "      <td>-0.061431</td>\n",
              "    </tr>\n",
              "    <tr>\n",
              "      <th>Lava</th>\n",
              "      <td>0.107363</td>\n",
              "    </tr>\n",
              "  </tbody>\n",
              "</table>\n",
              "</div>\n",
              "    <div class=\"colab-df-buttons\">\n",
              "\n",
              "  <div class=\"colab-df-container\">\n",
              "    <button class=\"colab-df-convert\" onclick=\"convertToInteractive('df-7707e98e-a7b8-4c47-ae6d-fd1248e78a56')\"\n",
              "            title=\"Convert this dataframe to an interactive table.\"\n",
              "            style=\"display:none;\">\n",
              "\n",
              "  <svg xmlns=\"http://www.w3.org/2000/svg\" height=\"24px\" viewBox=\"0 -960 960 960\">\n",
              "    <path d=\"M120-120v-720h720v720H120Zm60-500h600v-160H180v160Zm220 220h160v-160H400v160Zm0 220h160v-160H400v160ZM180-400h160v-160H180v160Zm440 0h160v-160H620v160ZM180-180h160v-160H180v160Zm440 0h160v-160H620v160Z\"/>\n",
              "  </svg>\n",
              "    </button>\n",
              "\n",
              "  <style>\n",
              "    .colab-df-container {\n",
              "      display:flex;\n",
              "      gap: 12px;\n",
              "    }\n",
              "\n",
              "    .colab-df-convert {\n",
              "      background-color: #E8F0FE;\n",
              "      border: none;\n",
              "      border-radius: 50%;\n",
              "      cursor: pointer;\n",
              "      display: none;\n",
              "      fill: #1967D2;\n",
              "      height: 32px;\n",
              "      padding: 0 0 0 0;\n",
              "      width: 32px;\n",
              "    }\n",
              "\n",
              "    .colab-df-convert:hover {\n",
              "      background-color: #E2EBFA;\n",
              "      box-shadow: 0px 1px 2px rgba(60, 64, 67, 0.3), 0px 1px 3px 1px rgba(60, 64, 67, 0.15);\n",
              "      fill: #174EA6;\n",
              "    }\n",
              "\n",
              "    .colab-df-buttons div {\n",
              "      margin-bottom: 4px;\n",
              "    }\n",
              "\n",
              "    [theme=dark] .colab-df-convert {\n",
              "      background-color: #3B4455;\n",
              "      fill: #D2E3FC;\n",
              "    }\n",
              "\n",
              "    [theme=dark] .colab-df-convert:hover {\n",
              "      background-color: #434B5C;\n",
              "      box-shadow: 0px 1px 3px 1px rgba(0, 0, 0, 0.15);\n",
              "      filter: drop-shadow(0px 1px 2px rgba(0, 0, 0, 0.3));\n",
              "      fill: #FFFFFF;\n",
              "    }\n",
              "  </style>\n",
              "\n",
              "    <script>\n",
              "      const buttonEl =\n",
              "        document.querySelector('#df-7707e98e-a7b8-4c47-ae6d-fd1248e78a56 button.colab-df-convert');\n",
              "      buttonEl.style.display =\n",
              "        google.colab.kernel.accessAllowed ? 'block' : 'none';\n",
              "\n",
              "      async function convertToInteractive(key) {\n",
              "        const element = document.querySelector('#df-7707e98e-a7b8-4c47-ae6d-fd1248e78a56');\n",
              "        const dataTable =\n",
              "          await google.colab.kernel.invokeFunction('convertToInteractive',\n",
              "                                                    [key], {});\n",
              "        if (!dataTable) return;\n",
              "\n",
              "        const docLinkHtml = 'Like what you see? Visit the ' +\n",
              "          '<a target=\"_blank\" href=https://colab.research.google.com/notebooks/data_table.ipynb>data table notebook</a>'\n",
              "          + ' to learn more about interactive tables.';\n",
              "        element.innerHTML = '';\n",
              "        dataTable['output_type'] = 'display_data';\n",
              "        await google.colab.output.renderOutput(dataTable, element);\n",
              "        const docLink = document.createElement('div');\n",
              "        docLink.innerHTML = docLinkHtml;\n",
              "        element.appendChild(docLink);\n",
              "      }\n",
              "    </script>\n",
              "  </div>\n",
              "\n",
              "\n",
              "<div id=\"df-43aabc4e-c4b6-4765-9cac-a72e19310f2d\">\n",
              "  <button class=\"colab-df-quickchart\" onclick=\"quickchart('df-43aabc4e-c4b6-4765-9cac-a72e19310f2d')\"\n",
              "            title=\"Suggest charts\"\n",
              "            style=\"display:none;\">\n",
              "\n",
              "<svg xmlns=\"http://www.w3.org/2000/svg\" height=\"24px\"viewBox=\"0 0 24 24\"\n",
              "     width=\"24px\">\n",
              "    <g>\n",
              "        <path d=\"M19 3H5c-1.1 0-2 .9-2 2v14c0 1.1.9 2 2 2h14c1.1 0 2-.9 2-2V5c0-1.1-.9-2-2-2zM9 17H7v-7h2v7zm4 0h-2V7h2v10zm4 0h-2v-4h2v4z\"/>\n",
              "    </g>\n",
              "</svg>\n",
              "  </button>\n",
              "\n",
              "<style>\n",
              "  .colab-df-quickchart {\n",
              "      --bg-color: #E8F0FE;\n",
              "      --fill-color: #1967D2;\n",
              "      --hover-bg-color: #E2EBFA;\n",
              "      --hover-fill-color: #174EA6;\n",
              "      --disabled-fill-color: #AAA;\n",
              "      --disabled-bg-color: #DDD;\n",
              "  }\n",
              "\n",
              "  [theme=dark] .colab-df-quickchart {\n",
              "      --bg-color: #3B4455;\n",
              "      --fill-color: #D2E3FC;\n",
              "      --hover-bg-color: #434B5C;\n",
              "      --hover-fill-color: #FFFFFF;\n",
              "      --disabled-bg-color: #3B4455;\n",
              "      --disabled-fill-color: #666;\n",
              "  }\n",
              "\n",
              "  .colab-df-quickchart {\n",
              "    background-color: var(--bg-color);\n",
              "    border: none;\n",
              "    border-radius: 50%;\n",
              "    cursor: pointer;\n",
              "    display: none;\n",
              "    fill: var(--fill-color);\n",
              "    height: 32px;\n",
              "    padding: 0;\n",
              "    width: 32px;\n",
              "  }\n",
              "\n",
              "  .colab-df-quickchart:hover {\n",
              "    background-color: var(--hover-bg-color);\n",
              "    box-shadow: 0 1px 2px rgba(60, 64, 67, 0.3), 0 1px 3px 1px rgba(60, 64, 67, 0.15);\n",
              "    fill: var(--button-hover-fill-color);\n",
              "  }\n",
              "\n",
              "  .colab-df-quickchart-complete:disabled,\n",
              "  .colab-df-quickchart-complete:disabled:hover {\n",
              "    background-color: var(--disabled-bg-color);\n",
              "    fill: var(--disabled-fill-color);\n",
              "    box-shadow: none;\n",
              "  }\n",
              "\n",
              "  .colab-df-spinner {\n",
              "    border: 2px solid var(--fill-color);\n",
              "    border-color: transparent;\n",
              "    border-bottom-color: var(--fill-color);\n",
              "    animation:\n",
              "      spin 1s steps(1) infinite;\n",
              "  }\n",
              "\n",
              "  @keyframes spin {\n",
              "    0% {\n",
              "      border-color: transparent;\n",
              "      border-bottom-color: var(--fill-color);\n",
              "      border-left-color: var(--fill-color);\n",
              "    }\n",
              "    20% {\n",
              "      border-color: transparent;\n",
              "      border-left-color: var(--fill-color);\n",
              "      border-top-color: var(--fill-color);\n",
              "    }\n",
              "    30% {\n",
              "      border-color: transparent;\n",
              "      border-left-color: var(--fill-color);\n",
              "      border-top-color: var(--fill-color);\n",
              "      border-right-color: var(--fill-color);\n",
              "    }\n",
              "    40% {\n",
              "      border-color: transparent;\n",
              "      border-right-color: var(--fill-color);\n",
              "      border-top-color: var(--fill-color);\n",
              "    }\n",
              "    60% {\n",
              "      border-color: transparent;\n",
              "      border-right-color: var(--fill-color);\n",
              "    }\n",
              "    80% {\n",
              "      border-color: transparent;\n",
              "      border-right-color: var(--fill-color);\n",
              "      border-bottom-color: var(--fill-color);\n",
              "    }\n",
              "    90% {\n",
              "      border-color: transparent;\n",
              "      border-bottom-color: var(--fill-color);\n",
              "    }\n",
              "  }\n",
              "</style>\n",
              "\n",
              "  <script>\n",
              "    async function quickchart(key) {\n",
              "      const quickchartButtonEl =\n",
              "        document.querySelector('#' + key + ' button');\n",
              "      quickchartButtonEl.disabled = true;  // To prevent multiple clicks.\n",
              "      quickchartButtonEl.classList.add('colab-df-spinner');\n",
              "      try {\n",
              "        const charts = await google.colab.kernel.invokeFunction(\n",
              "            'suggestCharts', [key], {});\n",
              "      } catch (error) {\n",
              "        console.error('Error during call to suggestCharts:', error);\n",
              "      }\n",
              "      quickchartButtonEl.classList.remove('colab-df-spinner');\n",
              "      quickchartButtonEl.classList.add('colab-df-quickchart-complete');\n",
              "    }\n",
              "    (() => {\n",
              "      let quickchartButtonEl =\n",
              "        document.querySelector('#df-43aabc4e-c4b6-4765-9cac-a72e19310f2d button');\n",
              "      quickchartButtonEl.style.display =\n",
              "        google.colab.kernel.accessAllowed ? 'block' : 'none';\n",
              "    })();\n",
              "  </script>\n",
              "</div>\n",
              "\n",
              "  <div id=\"id_1148a692-248e-4b6a-9652-fd6785c52899\">\n",
              "    <style>\n",
              "      .colab-df-generate {\n",
              "        background-color: #E8F0FE;\n",
              "        border: none;\n",
              "        border-radius: 50%;\n",
              "        cursor: pointer;\n",
              "        display: none;\n",
              "        fill: #1967D2;\n",
              "        height: 32px;\n",
              "        padding: 0 0 0 0;\n",
              "        width: 32px;\n",
              "      }\n",
              "\n",
              "      .colab-df-generate:hover {\n",
              "        background-color: #E2EBFA;\n",
              "        box-shadow: 0px 1px 2px rgba(60, 64, 67, 0.3), 0px 1px 3px 1px rgba(60, 64, 67, 0.15);\n",
              "        fill: #174EA6;\n",
              "      }\n",
              "\n",
              "      [theme=dark] .colab-df-generate {\n",
              "        background-color: #3B4455;\n",
              "        fill: #D2E3FC;\n",
              "      }\n",
              "\n",
              "      [theme=dark] .colab-df-generate:hover {\n",
              "        background-color: #434B5C;\n",
              "        box-shadow: 0px 1px 3px 1px rgba(0, 0, 0, 0.15);\n",
              "        filter: drop-shadow(0px 1px 2px rgba(0, 0, 0, 0.3));\n",
              "        fill: #FFFFFF;\n",
              "      }\n",
              "    </style>\n",
              "    <button class=\"colab-df-generate\" onclick=\"generateWithVariable('df')\"\n",
              "            title=\"Generate code using this dataframe.\"\n",
              "            style=\"display:none;\">\n",
              "\n",
              "  <svg xmlns=\"http://www.w3.org/2000/svg\" height=\"24px\"viewBox=\"0 0 24 24\"\n",
              "       width=\"24px\">\n",
              "    <path d=\"M7,19H8.4L18.45,9,17,7.55,7,17.6ZM5,21V16.75L18.45,3.32a2,2,0,0,1,2.83,0l1.4,1.43a1.91,1.91,0,0,1,.58,1.4,1.91,1.91,0,0,1-.58,1.4L9.25,21ZM18.45,9,17,7.55Zm-12,3A5.31,5.31,0,0,0,4.9,8.1,5.31,5.31,0,0,0,1,6.5,5.31,5.31,0,0,0,4.9,4.9,5.31,5.31,0,0,0,6.5,1,5.31,5.31,0,0,0,8.1,4.9,5.31,5.31,0,0,0,12,6.5,5.46,5.46,0,0,0,6.5,12Z\"/>\n",
              "  </svg>\n",
              "    </button>\n",
              "    <script>\n",
              "      (() => {\n",
              "      const buttonEl =\n",
              "        document.querySelector('#id_1148a692-248e-4b6a-9652-fd6785c52899 button.colab-df-generate');\n",
              "      buttonEl.style.display =\n",
              "        google.colab.kernel.accessAllowed ? 'block' : 'none';\n",
              "\n",
              "      buttonEl.onclick = () => {\n",
              "        google.colab.notebook.generateWithVariable('df');\n",
              "      }\n",
              "      })();\n",
              "    </script>\n",
              "  </div>\n",
              "\n",
              "    </div>\n",
              "  </div>\n"
            ],
            "application/vnd.google.colaboratory.intrinsic+json": {
              "type": "dataframe",
              "variable_name": "df",
              "summary": "{\n  \"name\": \"df\",\n  \"rows\": 6,\n  \"fields\": [\n    {\n      \"column\": \"Population R-squared\",\n      \"properties\": {\n        \"dtype\": \"number\",\n        \"std\": 0.06626280460431186,\n        \"min\": -0.061430585906703694,\n        \"max\": 0.11165586030155983,\n        \"num_unique_values\": 6,\n        \"samples\": [\n          0.009198865232334819,\n          0.11165586030155983,\n          0.10736341643437897\n        ],\n        \"semantic_type\": \"\",\n        \"description\": \"\"\n      }\n    }\n  ]\n}"
            }
          },
          "metadata": {},
          "execution_count": 30
        }
      ],
      "source": [
        "df = pd.DataFrame({'LassoCV': [r2_lcv],\n",
        "                   'RidgeCV': [r2_ridge],\n",
        "                   'ElasticNetCV': [r2_enet],\n",
        "                   'RLasso': [r2_rlasso],\n",
        "                   'RLassoOLS': [r2_rlasso_post],\n",
        "                   'Lava': [r2_lava]}).T\n",
        "df.columns = ['Population R-squared']\n",
        "df"
      ]
    },
    {
      "cell_type": "code",
      "source": [
        "plt.figure()\n",
        "plt.title(\"Different Models for Dense Regime\")\n",
        "# 45 degree line\n",
        "plt.plot([np.min(gXtest), np.max(gXtest)], [np.min(gXtest), np.max(gXtest)], color='black', linestyle='--')\n",
        "\n",
        "# different models\n",
        "plt.scatter(gXtest, lcv.predict(Xtest), marker='<', c='blue', s=5, label='LassoCV')\n",
        "plt.legend(loc='lower right')\n",
        "\n",
        "plt.show()"
      ],
      "metadata": {
        "colab": {
          "base_uri": "https://localhost:8080/",
          "height": 452
        },
        "id": "0gp4OURAb8Ze",
        "outputId": "76cc839e-236b-4ba3-8199-bd909f97d14d"
      },
      "execution_count": null,
      "outputs": [
        {
          "output_type": "display_data",
          "data": {
            "text/plain": [
              "<Figure size 640x480 with 1 Axes>"
            ],
            "image/png": "[encoded data removed]"
          },
          "metadata": {}
        }
      ]
    },
    {
      "cell_type": "code",
      "source": [
        "plt.figure()\n",
        "plt.title(\"Different Models for Dense Regime\")\n",
        "# 45 degree line\n",
        "plt.plot([np.min(gXtest), np.max(gXtest)], [np.min(gXtest), np.max(gXtest)], color='black', linestyle='--')\n",
        "\n",
        "# different models\n",
        "plt.scatter(gXtest, lava.predict(Xtest), marker='>', c='magenta', s=5, label='Lava')\n",
        "plt.legend(loc='lower right')\n",
        "\n",
        "plt.show()"
      ],
      "metadata": {
        "colab": {
          "base_uri": "https://localhost:8080/"
        },
        "id": "B8TV6NFgb57X",
        "outputId": "7a739102-7c92-401c-ebad-dfb4a5116bbe"
      },
      "execution_count": null,
      "outputs": [
        {
          "output_type": "display_data",
          "data": {
            "text/plain": [
              "<Figure size 640x480 with 1 Axes>"
            ],
            "image/png": "[encoded data removed]"
          },
          "metadata": {}
        }
      ]
    },
    {
      "cell_type": "code",
      "source": [
        "plt.figure()\n",
        "plt.title(\"Different Models for Dense Regime\")\n",
        "# 45 degree line\n",
        "plt.plot([np.min(gXtest), np.max(gXtest)], [np.min(gXtest), np.max(gXtest)], color='black', linestyle='--')\n",
        "\n",
        "# different models\n",
        "plt.scatter(gXtest, enet.predict(Xtest), marker='v', c='yellow', s=5, label='ENet')\n",
        "plt.legend(loc='lower right')\n",
        "\n",
        "plt.show()"
      ],
      "metadata": {
        "colab": {
          "base_uri": "https://localhost:8080/"
        },
        "id": "Ne__v3owbx9r",
        "outputId": "dbfcc0a3-b3cc-4145-9c6e-c42dbc9cf572"
      },
      "execution_count": null,
      "outputs": [
        {
          "output_type": "display_data",
          "data": {
            "text/plain": [
              "<Figure size 640x480 with 1 Axes>"
            ],
            "image/png": "[encoded data removed]"
          },
          "metadata": {}
        }
      ]
    },
    {
      "cell_type": "code",
      "source": [
        "plt.figure()\n",
        "plt.title(\"Different Models for Dense Regime\")\n",
        "# 45 degree line\n",
        "plt.plot([np.min(gXtest), np.max(gXtest)], [np.min(gXtest), np.max(gXtest)], color='black', linestyle='--')\n",
        "\n",
        "# different models\n",
        "plt.scatter(gXtest, rlasso_post.predict(Xtest), marker='o', c='green', s=5, label='RLasso Post')\n",
        "plt.legend(loc='lower right')\n",
        "\n",
        "plt.show()"
      ],
      "metadata": {
        "colab": {
          "base_uri": "https://localhost:8080/"
        },
        "id": "vhL2qlWtbsDg",
        "outputId": "e10ce406-a7ef-4ca7-ca69-8c2f439af01e"
      },
      "execution_count": null,
      "outputs": [
        {
          "output_type": "display_data",
          "data": {
            "text/plain": [
              "<Figure size 640x480 with 1 Axes>"
            ],
            "image/png": "[encoded data removed]"
          },
          "metadata": {}
        }
      ]
    },
    {
      "cell_type": "code",
      "execution_count": null,
      "metadata": {
        "id": "_h3-sAHVIdel",
        "colab": {
          "base_uri": "https://localhost:8080/"
        },
        "outputId": "31333e6e-1da8-4eeb-8201-d16c10b8fdf3"
      },
      "outputs": [
        {
          "output_type": "display_data",
          "data": {
            "text/plain": [
              "<Figure size 640x480 with 1 Axes>"
            ],
            "image/png": "[encoded data removed]"
          },
          "metadata": {}
        }
      ],
      "source": [
        "plt.figure()\n",
        "plt.title(\"Different Models for Dense Regime\")\n",
        "# 45 degree line\n",
        "plt.plot([np.min(gXtest), np.max(gXtest)], [np.min(gXtest), np.max(gXtest)], color='black', linestyle='--')\n",
        "\n",
        "# different models\n",
        "plt.scatter(gXtest, ridge.predict(Xtest), marker='^', c='brown', s=5, label='Ridge')\n",
        "plt.legend(loc='lower right')\n",
        "\n",
        "plt.show()"
      ]
    },
    {
      "cell_type": "markdown",
      "source": [
        "Key Observations:\n",
        "1. Alignment with the Diagonal (Ideal Predictions):\n",
        "\n",
        "- Ridge (brown triangles) predictions cluster closer to the diagonal than in the sparse regime → better suited for dense signals.\n",
        "- Lasso-based models (LassoCV, R-Lasso, R-Lasso Post) show more scatter away from the diagonal, indicating weaker performance in this regime.\n",
        "\n",
        "- R-Lasso and R-Lasso Post:\n",
        "\n",
        "  - Both methods, designed for sparse recovery, underperform in this dense setting.\n",
        "  - R-Lasso Post (green dots) shows many predictions flatlining near zero → a sign of excessive shrinkage.\n",
        "\n",
        "-  Elastic Net (ENet) and Lava:\n",
        "\n",
        "  - ENet (yellow inverted triangles) balances L1 and L2 penalties but still underperforms compared to Ridge.\n",
        "  - Lava (magenta crosses) incorporates both L1 and L2 penalties through iterative adjustments and performs moderately well, though not as tightly clustered as Ridge predictions.\n",
        "  \n",
        "Prediction Variability:\n",
        "\n",
        "Across models, predictions for larger true values (> 2 or < -2) show higher dispersion, indicating difficulty in capturing extreme values.\n"
      ],
      "metadata": {
        "id": "VDptIbYHhSuh"
      }
    },
    {
      "cell_type": "markdown",
      "metadata": {
        "id": "fRMnSTE0NXx0",
        "papermill": {
          "duration": 0.018842,
          "end_time": "2021-02-15T11:02:51.941852",
          "exception": false,
          "start_time": "2021-02-15T11:02:51.923010",
          "status": "completed"
        },
        "tags": []
      },
      "source": [
        "## Data Generating Process: Approximately Sparse + Small Dense Part"
      ]
    },
    {
      "cell_type": "code",
      "execution_count": null,
      "metadata": {
        "id": "kn_fmyZ0NXx0"
      },
      "outputs": [],
      "source": [
        "n = 100\n",
        "p = 400\n",
        "X, y, gX, Xtest, ytest, gXtest, Xpop, ypop, gXpop, betas = gen_data(n, p, regime=\"sparsedense\")"
      ]
    },
    {
      "cell_type": "code",
      "execution_count": null,
      "metadata": {
        "id": "uGUmB3Z_IeFL",
        "colab": {
          "base_uri": "https://localhost:8080/",
          "height": 478
        },
        "outputId": "c0ff6b62-5b75-46aa-c27a-d09b6c4e5983"
      },
      "outputs": [
        {
          "output_type": "display_data",
          "data": {
            "text/plain": [
              "<Figure size 640x480 with 1 Axes>"
            ],
            "image/png": "[encoded data removed]"
          },
          "metadata": {}
        }
      ],
      "source": [
        "plt.figure()\n",
        "plt.title(r\"$Y$ vs. $g(X)$\")\n",
        "plt.scatter(gX, y)\n",
        "plt.xlabel(r\"$g(X)$\")\n",
        "plt.ylabel(r\"$Y$\")\n",
        "plt.show()"
      ]
    },
    {
      "cell_type": "code",
      "execution_count": null,
      "metadata": {
        "id": "D86K6_U2NXx0",
        "colab": {
          "base_uri": "https://localhost:8080/"
        },
        "outputId": "1dcd9c5a-529f-4f22-b5cb-bbdf7b87c10f"
      },
      "outputs": [
        {
          "output_type": "stream",
          "name": "stdout",
          "text": [
            "theoretical R^2:, 0.8039307863630024\n",
            "theoretical R^2:, 0.8047665873619018\n"
          ]
        }
      ],
      "source": [
        "print(f\"theoretical R^2:, {1 - np.var(ypop - gXpop) / np.var(ypop)}\")\n",
        "print(f\"theoretical R^2:, {np.var(gXpop) / np.var(ypop)}\")"
      ]
    },
    {
      "cell_type": "code",
      "execution_count": null,
      "metadata": {
        "id": "cJeL2ubQLmwY",
        "colab": {
          "base_uri": "https://localhost:8080/"
        },
        "outputId": "70327a91-2f1a-46aa-ae1f-600da4a9416e"
      },
      "outputs": [
        {
          "output_type": "display_data",
          "data": {
            "text/plain": [
              "<Figure size 640x480 with 1 Axes>"
            ],
            "image/png": "[encoded data removed]"
          },
          "metadata": {}
        }
      ],
      "source": [
        "plt.figure()\n",
        "plt.scatter(range(len(betas)), abs(betas), s=5, color='b')\n",
        "plt.xlabel(r'$\\beta$')\n",
        "plt.ylabel('Magnitude (log scale)')\n",
        "plt.title(r'$\\beta$ Magnitude')\n",
        "plt.yscale('log')\n",
        "plt.show()"
      ]
    },
    {
      "cell_type": "code",
      "execution_count": null,
      "metadata": {
        "id": "BalMbmgsNXx0"
      },
      "outputs": [],
      "source": [
        "# Regressions\n",
        "lcv = LassoCV().fit(X, y)\n",
        "ridge = RidgeCV().fit(X, y)\n",
        "enet = ElasticNetCV(l1_ratio=0.5).fit(X, y)\n",
        "rlasso = RLasso(post=False).fit(X, y)\n",
        "rlasso_post = RLasso(post=True).fit(X, y)\n",
        "lava = GridSearchCV(Lava(), {'alpha1': np.logspace(-4, 4, 20), 'alpha2': np.logspace(-4, 4, 20)},\n",
        "                    scoring='r2', n_jobs=-1).fit(X, y)"
      ]
    },
    {
      "cell_type": "code",
      "execution_count": null,
      "metadata": {
        "id": "42uZ1gIqNXx1"
      },
      "outputs": [],
      "source": [
        "r2_lcv = r2_score(ypop, lcv.predict(Xpop))\n",
        "r2_ridge = r2_score(ypop, ridge.predict(Xpop))\n",
        "r2_enet = r2_score(ypop, enet.predict(Xpop))\n",
        "r2_rlasso = r2_score(ypop, rlasso.predict(Xpop))\n",
        "r2_rlasso_post = r2_score(ypop, rlasso_post.predict(Xpop))\n",
        "r2_lava = r2_score(ypop, lava.predict(Xpop))"
      ]
    },
    {
      "cell_type": "code",
      "execution_count": null,
      "metadata": {
        "id": "2bZbPplkNXx1",
        "colab": {
          "base_uri": "https://localhost:8080/",
          "height": 237
        },
        "outputId": "2bc3dbeb-1cf6-4271-bdbf-5f0caa3dff96"
      },
      "outputs": [
        {
          "output_type": "execute_result",
          "data": {
            "text/plain": [
              "              Population R-squared\n",
              "LassoCV                   0.170103\n",
              "RidgeCV                   0.088153\n",
              "ElasticNetCV              0.218322\n",
              "RLasso                    0.301715\n",
              "RLassoOLS                 0.320847\n",
              "Lava                      0.257810"
            ],
            "text/html": [
              "\n",
              "  <div id=\"df-b1f798a6-d40e-42e3-a958-4bedc981f81c\" class=\"colab-df-container\">\n",
              "    <div>\n",
              "<style scoped>\n",
              "    .dataframe tbody tr th:only-of-type {\n",
              "        vertical-align: middle;\n",
              "    }\n",
              "\n",
              "    .dataframe tbody tr th {\n",
              "        vertical-align: top;\n",
              "    }\n",
              "\n",
              "    .dataframe thead th {\n",
              "        text-align: right;\n",
              "    }\n",
              "</style>\n",
              "<table border=\"1\" class=\"dataframe\">\n",
              "  <thead>\n",
              "    <tr style=\"text-align: right;\">\n",
              "      <th></th>\n",
              "      <th>Population R-squared</th>\n",
              "    </tr>\n",
              "  </thead>\n",
              "  <tbody>\n",
              "    <tr>\n",
              "      <th>LassoCV</th>\n",
              "      <td>0.170103</td>\n",
              "    </tr>\n",
              "    <tr>\n",
              "      <th>RidgeCV</th>\n",
              "      <td>0.088153</td>\n",
              "    </tr>\n",
              "    <tr>\n",
              "      <th>ElasticNetCV</th>\n",
              "      <td>0.218322</td>\n",
              "    </tr>\n",
              "    <tr>\n",
              "      <th>RLasso</th>\n",
              "      <td>0.301715</td>\n",
              "    </tr>\n",
              "    <tr>\n",
              "      <th>RLassoOLS</th>\n",
              "      <td>0.320847</td>\n",
              "    </tr>\n",
              "    <tr>\n",
              "      <th>Lava</th>\n",
              "      <td>0.257810</td>\n",
              "    </tr>\n",
              "  </tbody>\n",
              "</table>\n",
              "</div>\n",
              "    <div class=\"colab-df-buttons\">\n",
              "\n",
              "  <div class=\"colab-df-container\">\n",
              "    <button class=\"colab-df-convert\" onclick=\"convertToInteractive('df-b1f798a6-d40e-42e3-a958-4bedc981f81c')\"\n",
              "            title=\"Convert this dataframe to an interactive table.\"\n",
              "            style=\"display:none;\">\n",
              "\n",
              "  <svg xmlns=\"http://www.w3.org/2000/svg\" height=\"24px\" viewBox=\"0 -960 960 960\">\n",
              "    <path d=\"M120-120v-720h720v720H120Zm60-500h600v-160H180v160Zm220 220h160v-160H400v160Zm0 220h160v-160H400v160ZM180-400h160v-160H180v160Zm440 0h160v-160H620v160ZM180-180h160v-160H180v160Zm440 0h160v-160H620v160Z\"/>\n",
              "  </svg>\n",
              "    </button>\n",
              "\n",
              "  <style>\n",
              "    .colab-df-container {\n",
              "      display:flex;\n",
              "      gap: 12px;\n",
              "    }\n",
              "\n",
              "    .colab-df-convert {\n",
              "      background-color: #E8F0FE;\n",
              "      border: none;\n",
              "      border-radius: 50%;\n",
              "      cursor: pointer;\n",
              "      display: none;\n",
              "      fill: #1967D2;\n",
              "      height: 32px;\n",
              "      padding: 0 0 0 0;\n",
              "      width: 32px;\n",
              "    }\n",
              "\n",
              "    .colab-df-convert:hover {\n",
              "      background-color: #E2EBFA;\n",
              "      box-shadow: 0px 1px 2px rgba(60, 64, 67, 0.3), 0px 1px 3px 1px rgba(60, 64, 67, 0.15);\n",
              "      fill: #174EA6;\n",
              "    }\n",
              "\n",
              "    .colab-df-buttons div {\n",
              "      margin-bottom: 4px;\n",
              "    }\n",
              "\n",
              "    [theme=dark] .colab-df-convert {\n",
              "      background-color: #3B4455;\n",
              "      fill: #D2E3FC;\n",
              "    }\n",
              "\n",
              "    [theme=dark] .colab-df-convert:hover {\n",
              "      background-color: #434B5C;\n",
              "      box-shadow: 0px 1px 3px 1px rgba(0, 0, 0, 0.15);\n",
              "      filter: drop-shadow(0px 1px 2px rgba(0, 0, 0, 0.3));\n",
              "      fill: #FFFFFF;\n",
              "    }\n",
              "  </style>\n",
              "\n",
              "    <script>\n",
              "      const buttonEl =\n",
              "        document.querySelector('#df-b1f798a6-d40e-42e3-a958-4bedc981f81c button.colab-df-convert');\n",
              "      buttonEl.style.display =\n",
              "        google.colab.kernel.accessAllowed ? 'block' : 'none';\n",
              "\n",
              "      async function convertToInteractive(key) {\n",
              "        const element = document.querySelector('#df-b1f798a6-d40e-42e3-a958-4bedc981f81c');\n",
              "        const dataTable =\n",
              "          await google.colab.kernel.invokeFunction('convertToInteractive',\n",
              "                                                    [key], {});\n",
              "        if (!dataTable) return;\n",
              "\n",
              "        const docLinkHtml = 'Like what you see? Visit the ' +\n",
              "          '<a target=\"_blank\" href=https://colab.research.google.com/notebooks/data_table.ipynb>data table notebook</a>'\n",
              "          + ' to learn more about interactive tables.';\n",
              "        element.innerHTML = '';\n",
              "        dataTable['output_type'] = 'display_data';\n",
              "        await google.colab.output.renderOutput(dataTable, element);\n",
              "        const docLink = document.createElement('div');\n",
              "        docLink.innerHTML = docLinkHtml;\n",
              "        element.appendChild(docLink);\n",
              "      }\n",
              "    </script>\n",
              "  </div>\n",
              "\n",
              "\n",
              "<div id=\"df-0f062f91-9db8-457a-8803-d4a042e95241\">\n",
              "  <button class=\"colab-df-quickchart\" onclick=\"quickchart('df-0f062f91-9db8-457a-8803-d4a042e95241')\"\n",
              "            title=\"Suggest charts\"\n",
              "            style=\"display:none;\">\n",
              "\n",
              "<svg xmlns=\"http://www.w3.org/2000/svg\" height=\"24px\"viewBox=\"0 0 24 24\"\n",
              "     width=\"24px\">\n",
              "    <g>\n",
              "        <path d=\"M19 3H5c-1.1 0-2 .9-2 2v14c0 1.1.9 2 2 2h14c1.1 0 2-.9 2-2V5c0-1.1-.9-2-2-2zM9 17H7v-7h2v7zm4 0h-2V7h2v10zm4 0h-2v-4h2v4z\"/>\n",
              "    </g>\n",
              "</svg>\n",
              "  </button>\n",
              "\n",
              "<style>\n",
              "  .colab-df-quickchart {\n",
              "      --bg-color: #E8F0FE;\n",
              "      --fill-color: #1967D2;\n",
              "      --hover-bg-color: #E2EBFA;\n",
              "      --hover-fill-color: #174EA6;\n",
              "      --disabled-fill-color: #AAA;\n",
              "      --disabled-bg-color: #DDD;\n",
              "  }\n",
              "\n",
              "  [theme=dark] .colab-df-quickchart {\n",
              "      --bg-color: #3B4455;\n",
              "      --fill-color: #D2E3FC;\n",
              "      --hover-bg-color: #434B5C;\n",
              "      --hover-fill-color: #FFFFFF;\n",
              "      --disabled-bg-color: #3B4455;\n",
              "      --disabled-fill-color: #666;\n",
              "  }\n",
              "\n",
              "  .colab-df-quickchart {\n",
              "    background-color: var(--bg-color);\n",
              "    border: none;\n",
              "    border-radius: 50%;\n",
              "    cursor: pointer;\n",
              "    display: none;\n",
              "    fill: var(--fill-color);\n",
              "    height: 32px;\n",
              "    padding: 0;\n",
              "    width: 32px;\n",
              "  }\n",
              "\n",
              "  .colab-df-quickchart:hover {\n",
              "    background-color: var(--hover-bg-color);\n",
              "    box-shadow: 0 1px 2px rgba(60, 64, 67, 0.3), 0 1px 3px 1px rgba(60, 64, 67, 0.15);\n",
              "    fill: var(--button-hover-fill-color);\n",
              "  }\n",
              "\n",
              "  .colab-df-quickchart-complete:disabled,\n",
              "  .colab-df-quickchart-complete:disabled:hover {\n",
              "    background-color: var(--disabled-bg-color);\n",
              "    fill: var(--disabled-fill-color);\n",
              "    box-shadow: none;\n",
              "  }\n",
              "\n",
              "  .colab-df-spinner {\n",
              "    border: 2px solid var(--fill-color);\n",
              "    border-color: transparent;\n",
              "    border-bottom-color: var(--fill-color);\n",
              "    animation:\n",
              "      spin 1s steps(1) infinite;\n",
              "  }\n",
              "\n",
              "  @keyframes spin {\n",
              "    0% {\n",
              "      border-color: transparent;\n",
              "      border-bottom-color: var(--fill-color);\n",
              "      border-left-color: var(--fill-color);\n",
              "    }\n",
              "    20% {\n",
              "      border-color: transparent;\n",
              "      border-left-color: var(--fill-color);\n",
              "      border-top-color: var(--fill-color);\n",
              "    }\n",
              "    30% {\n",
              "      border-color: transparent;\n",
              "      border-left-color: var(--fill-color);\n",
              "      border-top-color: var(--fill-color);\n",
              "      border-right-color: var(--fill-color);\n",
              "    }\n",
              "    40% {\n",
              "      border-color: transparent;\n",
              "      border-right-color: var(--fill-color);\n",
              "      border-top-color: var(--fill-color);\n",
              "    }\n",
              "    60% {\n",
              "      border-color: transparent;\n",
              "      border-right-color: var(--fill-color);\n",
              "    }\n",
              "    80% {\n",
              "      border-color: transparent;\n",
              "      border-right-color: var(--fill-color);\n",
              "      border-bottom-color: var(--fill-color);\n",
              "    }\n",
              "    90% {\n",
              "      border-color: transparent;\n",
              "      border-bottom-color: var(--fill-color);\n",
              "    }\n",
              "  }\n",
              "</style>\n",
              "\n",
              "  <script>\n",
              "    async function quickchart(key) {\n",
              "      const quickchartButtonEl =\n",
              "        document.querySelector('#' + key + ' button');\n",
              "      quickchartButtonEl.disabled = true;  // To prevent multiple clicks.\n",
              "      quickchartButtonEl.classList.add('colab-df-spinner');\n",
              "      try {\n",
              "        const charts = await google.colab.kernel.invokeFunction(\n",
              "            'suggestCharts', [key], {});\n",
              "      } catch (error) {\n",
              "        console.error('Error during call to suggestCharts:', error);\n",
              "      }\n",
              "      quickchartButtonEl.classList.remove('colab-df-spinner');\n",
              "      quickchartButtonEl.classList.add('colab-df-quickchart-complete');\n",
              "    }\n",
              "    (() => {\n",
              "      let quickchartButtonEl =\n",
              "        document.querySelector('#df-0f062f91-9db8-457a-8803-d4a042e95241 button');\n",
              "      quickchartButtonEl.style.display =\n",
              "        google.colab.kernel.accessAllowed ? 'block' : 'none';\n",
              "    })();\n",
              "  </script>\n",
              "</div>\n",
              "\n",
              "  <div id=\"id_63fe773d-fb49-4269-8f5f-940562bda8a1\">\n",
              "    <style>\n",
              "      .colab-df-generate {\n",
              "        background-color: #E8F0FE;\n",
              "        border: none;\n",
              "        border-radius: 50%;\n",
              "        cursor: pointer;\n",
              "        display: none;\n",
              "        fill: #1967D2;\n",
              "        height: 32px;\n",
              "        padding: 0 0 0 0;\n",
              "        width: 32px;\n",
              "      }\n",
              "\n",
              "      .colab-df-generate:hover {\n",
              "        background-color: #E2EBFA;\n",
              "        box-shadow: 0px 1px 2px rgba(60, 64, 67, 0.3), 0px 1px 3px 1px rgba(60, 64, 67, 0.15);\n",
              "        fill: #174EA6;\n",
              "      }\n",
              "\n",
              "      [theme=dark] .colab-df-generate {\n",
              "        background-color: #3B4455;\n",
              "        fill: #D2E3FC;\n",
              "      }\n",
              "\n",
              "      [theme=dark] .colab-df-generate:hover {\n",
              "        background-color: #434B5C;\n",
              "        box-shadow: 0px 1px 3px 1px rgba(0, 0, 0, 0.15);\n",
              "        filter: drop-shadow(0px 1px 2px rgba(0, 0, 0, 0.3));\n",
              "        fill: #FFFFFF;\n",
              "      }\n",
              "    </style>\n",
              "    <button class=\"colab-df-generate\" onclick=\"generateWithVariable('df')\"\n",
              "            title=\"Generate code using this dataframe.\"\n",
              "            style=\"display:none;\">\n",
              "\n",
              "  <svg xmlns=\"http://www.w3.org/2000/svg\" height=\"24px\"viewBox=\"0 0 24 24\"\n",
              "       width=\"24px\">\n",
              "    <path d=\"M7,19H8.4L18.45,9,17,7.55,7,17.6ZM5,21V16.75L18.45,3.32a2,2,0,0,1,2.83,0l1.4,1.43a1.91,1.91,0,0,1,.58,1.4,1.91,1.91,0,0,1-.58,1.4L9.25,21ZM18.45,9,17,7.55Zm-12,3A5.31,5.31,0,0,0,4.9,8.1,5.31,5.31,0,0,0,1,6.5,5.31,5.31,0,0,0,4.9,4.9,5.31,5.31,0,0,0,6.5,1,5.31,5.31,0,0,0,8.1,4.9,5.31,5.31,0,0,0,12,6.5,5.46,5.46,0,0,0,6.5,12Z\"/>\n",
              "  </svg>\n",
              "    </button>\n",
              "    <script>\n",
              "      (() => {\n",
              "      const buttonEl =\n",
              "        document.querySelector('#id_63fe773d-fb49-4269-8f5f-940562bda8a1 button.colab-df-generate');\n",
              "      buttonEl.style.display =\n",
              "        google.colab.kernel.accessAllowed ? 'block' : 'none';\n",
              "\n",
              "      buttonEl.onclick = () => {\n",
              "        google.colab.notebook.generateWithVariable('df');\n",
              "      }\n",
              "      })();\n",
              "    </script>\n",
              "  </div>\n",
              "\n",
              "    </div>\n",
              "  </div>\n"
            ],
            "application/vnd.google.colaboratory.intrinsic+json": {
              "type": "dataframe",
              "variable_name": "df",
              "summary": "{\n  \"name\": \"df\",\n  \"rows\": 6,\n  \"fields\": [\n    {\n      \"column\": \"Population R-squared\",\n      \"properties\": {\n        \"dtype\": \"number\",\n        \"std\": 0.08709273462356565,\n        \"min\": 0.08815271878235431,\n        \"max\": 0.3208468059048569,\n        \"num_unique_values\": 6,\n        \"samples\": [\n          0.1701028760018446,\n          0.08815271878235431,\n          0.2578100720420279\n        ],\n        \"semantic_type\": \"\",\n        \"description\": \"\"\n      }\n    }\n  ]\n}"
            }
          },
          "metadata": {},
          "execution_count": 42
        }
      ],
      "source": [
        "df = pd.DataFrame({'LassoCV': [r2_lcv],\n",
        "                   'RidgeCV': [r2_ridge],\n",
        "                   'ElasticNetCV': [r2_enet],\n",
        "                   'RLasso': [r2_rlasso],\n",
        "                   'RLassoOLS': [r2_rlasso_post],\n",
        "                   'Lava': [r2_lava]}).T\n",
        "df.columns = ['Population R-squared']\n",
        "df"
      ]
    },
    {
      "cell_type": "code",
      "execution_count": null,
      "metadata": {
        "id": "T0cV196UNXx1",
        "colab": {
          "base_uri": "https://localhost:8080/"
        },
        "outputId": "5bea0112-d5b6-486b-b60a-1adc575d9d0a"
      },
      "outputs": [
        {
          "output_type": "display_data",
          "data": {
            "text/plain": [
              "<Figure size 640x480 with 1 Axes>"
            ],
            "image/png": "[encoded data removed]"
          },
          "metadata": {}
        }
      ],
      "source": [
        "plt.figure()\n",
        "plt.title(\"Different Models for Approximately Sparse + Dense Regime\")\n",
        "# 45 degree line\n",
        "plt.plot([np.min(gXtest), np.max(gXtest)], [np.min(gXtest), np.max(gXtest)], color='black', linestyle='--')\n",
        "\n",
        "# different models\n",
        "plt.scatter(gXtest, ridge.predict(Xtest), marker='^', c='brown', s=5, label='Ridge')\n",
        "plt.scatter(gXtest, enet.predict(Xtest), marker='v', c='yellow', s=5, label='ENet')\n",
        "plt.scatter(gXtest, rlasso.predict(Xtest), marker='D', c='red', s=5, label='RLasso')\n",
        "plt.scatter(gXtest, rlasso_post.predict(Xtest), marker='o', c='green', s=5, label='RLasso Post')\n",
        "plt.scatter(gXtest, lcv.predict(Xtest), marker='<', c='blue', s=5, label='LassoCV')\n",
        "plt.scatter(gXtest, lava.predict(Xtest), marker='>', c='magenta', s=5, label='Lava')\n",
        "plt.legend(loc='lower right')\n",
        "\n",
        "plt.show()"
      ]
    },
    {
      "cell_type": "markdown",
      "source": [
        "Key Observations:\n",
        "1. Overall Alignment with the Diagonal (Ideal Predictions):\n",
        "\n",
        "- No single model perfectly hugs the diagonal across all values → consistent with the challenge of mixed sparsity and density.\n",
        "- Predictions are more scattered than the sparse regime but generally less dispersed than the purely dense regime.\n",
        "\n",
        "2. Model-Specific Insights:\n",
        "\n",
        "- Ridge (brown triangles):\n",
        "Handles dense components well but struggles to capture sparse large signals, leading to underfitting in those regions.\n",
        "- Lasso-based models (LassoCV, RLasso, RLasso Post):\n",
        "Better at identifying sparse signals but miss out on many small effects → leads to underprediction for moderate values.\n",
        "RLasso Post (green dots) shows shrinkage issues, with many predictions clustered near zero.\n",
        "- Elastic Net (ENet, yellow inverted triangles):\n",
        "Offers a compromise by balancing L1 and L2 penalties → performs moderately across the range.\n",
        "- Lava (magenta crosses):\n",
        "Stands out as it’s designed for mixed sparsity scenarios.\n",
        "Provides a good balance of capturing both large (sparse) and small (dense) effects, evident from its relatively tight clustering along the diagonal.\n",
        "\n",
        "3. Extreme Values and Variability:\n",
        "\n",
        "- Across all models, predictions for large positive/negative true values (> 3 or < -3) show increased dispersion.\n",
        "- This indicates difficulty in capturing outliers or extreme signals in the mixed regime.\n"
      ],
      "metadata": {
        "id": "48q2ntxRhjTy"
      }
    }
  ],
  "metadata": {
    "colab": {
      "provenance": []
    },
    "hide_input": false,
    "kernelspec": {
      "display_name": "Python 3 (ipykernel)",
      "language": "python",
      "name": "python3"
    },
    "language_info": {
      "codemirror_mode": {
        "name": "ipython",
        "version": 3
      },
      "file_extension": ".py",
      "mimetype": "text/x-python",
      "name": "python",
      "nbconvert_exporter": "python",
      "pygments_lexer": "ipython3",
      "version": "3.11.5"
    }
  },
  "nbformat": 4,
  "nbformat_minor": 0
}