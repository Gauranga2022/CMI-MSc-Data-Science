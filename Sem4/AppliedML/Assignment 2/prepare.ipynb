{
  "cells": [
    {
      "cell_type": "markdown",
      "id": "ee22036a-16d1-453a-b0a4-687f781e189c",
      "metadata": {
        "id": "ee22036a-16d1-453a-b0a4-687f781e189c"
      },
      "source": [
        "### Importing necessary libraries"
      ]
    },
    {
      "cell_type": "code",
      "execution_count": null,
      "id": "c0f2bf9c-ca90-4e65-8932-79a63ba440a4",
      "metadata": {
        "id": "c0f2bf9c-ca90-4e65-8932-79a63ba440a4",
        "outputId": "c8ce8c07-6e85-4a05-eac4-dd6fd4fc41fd"
      },
      "outputs": [
        {
          "name": "stderr",
          "output_type": "stream",
          "text": [
            "[nltk_data] Downloading package stopwords to\n",
            "[nltk_data]     C:\\Users\\Hp\\AppData\\Roaming\\nltk_data...\n",
            "[nltk_data]   Package stopwords is already up-to-date!\n"
          ]
        }
      ],
      "source": [
        "import nltk\n",
        "import pandas as pd\n",
        "import numpy as np\n",
        "from nltk.corpus import stopwords\n",
        "from nltk.tokenize import word_tokenize\n",
        "from sklearn.model_selection import train_test_split\n",
        "import random\n",
        "random.seed(42)\n",
        "import seaborn as sns\n",
        "import matplotlib.pyplot as plt\n",
        "import re\n",
        "\n",
        "%matplotlib inline\n",
        "import matplotlib.pyplot as plt\n",
        "\n",
        "nltk.download('stopwords')\n",
        "\n",
        "import warnings\n",
        "warnings.filterwarnings(\"ignore\")"
      ]
    },
    {
      "cell_type": "code",
      "execution_count": null,
      "id": "2cc47c9b-6953-416d-b53f-c3dfd402f132",
      "metadata": {
        "id": "2cc47c9b-6953-416d-b53f-c3dfd402f132"
      },
      "outputs": [],
      "source": [
        "data = pd.read_csv(\"raw_data.csv\")"
      ]
    },
    {
      "cell_type": "markdown",
      "id": "ed51473b-600a-4dcb-ab46-35abf30905a6",
      "metadata": {
        "id": "ed51473b-600a-4dcb-ab46-35abf30905a6"
      },
      "source": [
        "### Preprocessing"
      ]
    },
    {
      "cell_type": "code",
      "execution_count": null,
      "id": "7e559cc9-15af-4bdc-a978-4dae94c810bf",
      "metadata": {
        "id": "7e559cc9-15af-4bdc-a978-4dae94c810bf",
        "outputId": "6d675cf5-da8e-4f44-fb26-9c1a7f54a41e"
      },
      "outputs": [
        {
          "name": "stdout",
          "output_type": "stream",
          "text": [
            "Begin text preprocessing:\n",
            "\n",
            "---------------------------------------- : 9% completed\n",
            "++++------------------------------------ : 17% completed\n",
            "++++++++-------------------------------- : 26% completed\n",
            "++++++++++++---------------------------- : 35% completed\n",
            "++++++++++++++++------------------------ : 44% completed\n",
            "++++++++++++++++++++-------------------- : 52% completed\n",
            "++++++++++++++++++++++++---------------- : 61% completed\n",
            "++++++++++++++++++++++++++++------------ : 70% completed\n",
            "++++++++++++++++++++++++++++------------ : 79% completed\n",
            "++++++++++++++++++++++++++++++++-------- : 87% completed\n",
            "++++++++++++++++++++++++++++++++++++---- : 96% completed\n",
            "++++++++++++++++++++++++++++++++++++++++ : 100% completed\n",
            "\n",
            "Preprocessing complete\n"
          ]
        }
      ],
      "source": [
        "def preprocess_text(text):\n",
        "    text = text.lower()\n",
        "    regex = f\"^subject:\\s(.*)\"\n",
        "    match = re.search(regex, text)\n",
        "    if match:\n",
        "      text = match.group(1)\n",
        "    text = re.sub(r\"[^a-z .]\", \"\", text)\n",
        "    words = text.split()\n",
        "    words = [word for word in words if word.isalpha() and word not in stopwords.words('english')]\n",
        "    return ' '.join(words)\n",
        "\n",
        "\n",
        "print(\"Begin text preprocessing:\", end=\"\\n\\n\")\n",
        "data[\"processed_text\"] = \"\"\n",
        "for i in range(data.shape[0]):\n",
        "    if i % 500 == 0 and i != 0:\n",
        "        a = round(i/data.shape[0]*100)\n",
        "        print(\"+\"*(a//10*4) + \"-\"*(40-(a//10*4)) + \" : \"+ str(a) + \"% completed\")\n",
        "    data[\"processed_text\"][i] = preprocess_text(data[\"text\"][i])\n",
        "    if i == data.shape[0]-1:\n",
        "        print(\"+\"*40 + \" : \" + \"100% completed\", end=\"\\n\\n\")\n",
        "print(\"Preprocessing complete\")"
      ]
    },
    {
      "cell_type": "markdown",
      "id": "0561c170-c6c9-4057-bf58-5193d1c266b4",
      "metadata": {
        "id": "0561c170-c6c9-4057-bf58-5193d1c266b4"
      },
      "source": [
        "### Initializing DVC"
      ]
    },
    {
      "cell_type": "code",
      "execution_count": null,
      "id": "e1cfd274-2932-49e2-834c-c271bae71c7c",
      "metadata": {
        "scrolled": true,
        "id": "e1cfd274-2932-49e2-834c-c271bae71c7c",
        "outputId": "40f6122e-c0f1-4608-f81d-eb64aea313f4"
      },
      "outputs": [
        {
          "name": "stdout",
          "output_type": "stream",
          "text": [
            "Initialized DVC repository.\n",
            "\n",
            "You can now commit the changes to git.\n",
            "\n",
            "+---------------------------------------------------------------------+\n",
            "|                                                                     |\n",
            "|        DVC has enabled anonymous aggregate usage analytics.         |\n",
            "|     Read the analytics documentation (and how to opt-out) here:     |\n",
            "|             <https://dvc.org/doc/user-guide/analytics>              |\n",
            "|                                                                     |\n",
            "+---------------------------------------------------------------------+\n",
            "\n",
            "What's next?\n",
            "------------\n",
            "- Check out the documentation: <https://dvc.org/doc>\n",
            "- Get help and share ideas: <https://dvc.org/chat>\n",
            "- Star us on GitHub: <https://github.com/iterative/dvc>\n"
          ]
        }
      ],
      "source": [
        "!dvc init --subdir"
      ]
    },
    {
      "cell_type": "markdown",
      "id": "3dff6027-7f38-4ed1-9e88-88ee5616a565",
      "metadata": {
        "id": "3dff6027-7f38-4ed1-9e88-88ee5616a565"
      },
      "source": [
        "### Setting up remote storage"
      ]
    },
    {
      "cell_type": "code",
      "execution_count": null,
      "id": "c30785d7-b2d7-44f0-a566-403c57468595",
      "metadata": {
        "id": "c30785d7-b2d7-44f0-a566-403c57468595",
        "outputId": "c58b3356-afaf-43ef-fcaf-7d0a1d657776"
      },
      "outputs": [
        {
          "name": "stdout",
          "output_type": "stream",
          "text": [
            "Setting 'storage' as a default remote.\n",
            "On branch main\n",
            "Your branch is up to date with 'origin/main'.\n",
            "\n",
            "Changes to be committed:\n",
            "  (use \"git restore --staged <file>...\" to unstage)\n",
            "\tnew file:   .dvc/.gitignore\n",
            "\tnew file:   .dvc/config\n",
            "\tnew file:   .dvcignore\n",
            "\n",
            "Changes not staged for commit:\n",
            "  (use \"git add <file>...\" to update what will be committed)\n",
            "  (use \"git restore <file>...\" to discard changes in working directory)\n",
            "\tmodified:   .dvc/config\n",
            "\n",
            "Untracked files:\n",
            "  (use \"git add <file>...\" to include in what will be committed)\n",
            "\t../.gitignore\n",
            "\t.ipynb_checkpoints/\n",
            "\tprepare.ipynb\n",
            "\n"
          ]
        }
      ],
      "source": [
        "!dvc remote add --default storage gdrive://1dkzdzTtGUES5kMWg9lk5N6ECtmy2a5u3\n",
        "!git status"
      ]
    },
    {
      "cell_type": "markdown",
      "id": "2d72f090-36d2-43a7-a3b3-d395516e627c",
      "metadata": {
        "id": "2d72f090-36d2-43a7-a3b3-d395516e627c"
      },
      "source": [
        "### First adding raw_data to dvc"
      ]
    },
    {
      "cell_type": "code",
      "execution_count": null,
      "id": "8f6b6b3a-ed80-4ced-9e8f-c1c0df2564dc",
      "metadata": {
        "id": "8f6b6b3a-ed80-4ced-9e8f-c1c0df2564dc",
        "outputId": "3a35a97e-08b2-436a-c6d3-7a3a3f37f27e"
      },
      "outputs": [
        {
          "name": "stdout",
          "output_type": "stream",
          "text": [
            "\n",
            "To track the changes with git, run:\n",
            "\n",
            "\tgit add .gitignore raw_data.csv.dvc\n",
            "\n",
            "To enable auto staging, run:\n",
            "\n",
            "\tdvc config core.autostage true\n"
          ]
        },
        {
          "name": "stderr",
          "output_type": "stream",
          "text": [
            "\\u280b Checking graph\n",
            "\n"
          ]
        }
      ],
      "source": [
        "!dvc add raw_data.csv"
      ]
    },
    {
      "cell_type": "code",
      "execution_count": null,
      "id": "5ee3d740-aa13-4cfe-8a0a-bbb04961f28c",
      "metadata": {
        "id": "5ee3d740-aa13-4cfe-8a0a-bbb04961f28c"
      },
      "outputs": [],
      "source": [
        "!git add .gitignore raw_data.csv.dvc"
      ]
    },
    {
      "cell_type": "code",
      "execution_count": null,
      "id": "6262122a-2af6-4242-9710-ea03106b17e6",
      "metadata": {
        "id": "6262122a-2af6-4242-9710-ea03106b17e6"
      },
      "outputs": [],
      "source": [
        "!git add .dvc/config"
      ]
    },
    {
      "cell_type": "code",
      "execution_count": null,
      "id": "1f3def7b-4316-4cd8-ab8e-9f3f3db96eea",
      "metadata": {
        "id": "1f3def7b-4316-4cd8-ab8e-9f3f3db96eea",
        "outputId": "6fc011d9-660e-4022-c3cf-97f96669e73d"
      },
      "outputs": [
        {
          "name": "stdout",
          "output_type": "stream",
          "text": [
            "[main 1c2e538] Adding the raw_data.csv\n",
            " 4 files changed, 11 insertions(+)\n",
            " create mode 100644 .gitignore\n",
            " create mode 100644 Assignment 2/raw_data.csv.dvc\n"
          ]
        }
      ],
      "source": [
        "!git commit -m \"Adding the raw_data.csv\""
      ]
    },
    {
      "cell_type": "code",
      "execution_count": null,
      "id": "69df342e-7fdb-4c43-870a-9161884e59a8",
      "metadata": {
        "id": "69df342e-7fdb-4c43-870a-9161884e59a8",
        "outputId": "97c50dee-fdad-4551-bcac-aade7eeb7d9a"
      },
      "outputs": [
        {
          "name": "stdout",
          "output_type": "stream",
          "text": [
            "1 file pushed\n"
          ]
        }
      ],
      "source": [
        "!dvc push"
      ]
    },
    {
      "cell_type": "markdown",
      "id": "b3628229-62e8-42ce-81c6-52c4e16b1b53",
      "metadata": {
        "id": "b3628229-62e8-42ce-81c6-52c4e16b1b53"
      },
      "source": [
        "### Splitting the data (Version 1)"
      ]
    },
    {
      "cell_type": "code",
      "execution_count": null,
      "id": "e9bb80ed-d210-4027-8393-86ac38a279be",
      "metadata": {
        "id": "e9bb80ed-d210-4027-8393-86ac38a279be"
      },
      "outputs": [],
      "source": [
        "# Breaking the dataset into 70%, 15%, 15% for train, validation and test respectively\n",
        "train, val_test = train_test_split(data[[\"processed_text\", \"spam\"]], test_size = 0.30, random_state=42)\n",
        "val, test = train_test_split(val_test, test_size = 0.50, random_state=42)"
      ]
    },
    {
      "cell_type": "code",
      "execution_count": null,
      "id": "2a73a78d-a5f7-4e50-9caf-ffa96924f89a",
      "metadata": {
        "id": "2a73a78d-a5f7-4e50-9caf-ffa96924f89a"
      },
      "outputs": [],
      "source": [
        "train.to_csv(\"train.csv\", index=False)\n",
        "val.to_csv(\"validation.csv\", index=False)\n",
        "test.to_csv(\"test.csv\", index=False)"
      ]
    },
    {
      "cell_type": "markdown",
      "id": "88b3ec91-5f76-46e7-b400-08ea435d48e9",
      "metadata": {
        "id": "88b3ec91-5f76-46e7-b400-08ea435d48e9"
      },
      "source": [
        "### Adding these split files to dvc tracking"
      ]
    },
    {
      "cell_type": "code",
      "execution_count": null,
      "id": "ccb27308-4c0e-46ff-ba07-9a8988a64a3f",
      "metadata": {
        "id": "ccb27308-4c0e-46ff-ba07-9a8988a64a3f",
        "outputId": "313b26ac-a040-4acb-a86a-867959978fcd"
      },
      "outputs": [
        {
          "name": "stdout",
          "output_type": "stream",
          "text": [
            "\n",
            "To track the changes with git, run:\n",
            "\n",
            "\tgit add train.csv.dvc test.csv.dvc .gitignore validation.csv.dvc\n",
            "\n",
            "To enable auto staging, run:\n",
            "\n",
            "\tdvc config core.autostage true\n"
          ]
        },
        {
          "name": "stderr",
          "output_type": "stream",
          "text": [
            "\\u280b Checking graph\n",
            "\n"
          ]
        }
      ],
      "source": [
        "!dvc add train.csv test.csv validation.csv"
      ]
    },
    {
      "cell_type": "code",
      "execution_count": null,
      "id": "bbea0087-bac6-406c-8542-2a94ae79c08e",
      "metadata": {
        "id": "bbea0087-bac6-406c-8542-2a94ae79c08e"
      },
      "outputs": [],
      "source": [
        "!git add train.csv.dvc test.csv.dvc .gitignore validation.csv.dvc"
      ]
    },
    {
      "cell_type": "code",
      "execution_count": null,
      "id": "f66c928f-c873-4c66-9573-5f04c4ab9a4e",
      "metadata": {
        "id": "f66c928f-c873-4c66-9573-5f04c4ab9a4e",
        "outputId": "7759481f-2ebb-444a-9057-f4222e972cf0"
      },
      "outputs": [
        {
          "name": "stdout",
          "output_type": "stream",
          "text": [
            "[main ecca3f3] Version 1 split\n",
            " 4 files changed, 18 insertions(+)\n",
            " create mode 100644 Assignment 2/test.csv.dvc\n",
            " create mode 100644 Assignment 2/train.csv.dvc\n",
            " create mode 100644 Assignment 2/validation.csv.dvc\n"
          ]
        }
      ],
      "source": [
        "!git commit -m \"Version 1 split\""
      ]
    },
    {
      "cell_type": "markdown",
      "id": "3546c4f5-7686-445b-acd5-9fcebdabd515",
      "metadata": {
        "id": "3546c4f5-7686-445b-acd5-9fcebdabd515"
      },
      "source": [
        "### Splitting the data (Version 2)"
      ]
    },
    {
      "cell_type": "code",
      "execution_count": null,
      "id": "78f0f367-ddc5-4dd7-ba5c-0de723deed82",
      "metadata": {
        "id": "78f0f367-ddc5-4dd7-ba5c-0de723deed82"
      },
      "outputs": [],
      "source": [
        "# Breaking the dataset into 70%, 15%, 15% for train, validation and test respectively\n",
        "train, val_test = train_test_split(data[[\"processed_text\", \"spam\"]], test_size = 0.30, random_state=21)\n",
        "val, test = train_test_split(val_test, test_size = 0.50, random_state=21)"
      ]
    },
    {
      "cell_type": "code",
      "execution_count": null,
      "id": "6c73f0a6-4e26-4f7e-ba8b-38f515aa766d",
      "metadata": {
        "id": "6c73f0a6-4e26-4f7e-ba8b-38f515aa766d"
      },
      "outputs": [],
      "source": [
        "train.to_csv(\"train.csv\", index=False)\n",
        "val.to_csv(\"validation.csv\", index=False)\n",
        "test.to_csv(\"test.csv\", index=False)"
      ]
    },
    {
      "cell_type": "markdown",
      "id": "c7ca698d-4b8c-474d-85b2-d07aaacb1274",
      "metadata": {
        "id": "c7ca698d-4b8c-474d-85b2-d07aaacb1274"
      },
      "source": [
        "### Adding these dvc files to dvc tracking"
      ]
    },
    {
      "cell_type": "code",
      "execution_count": null,
      "id": "8b21bdd4-6593-4ac7-a663-445b8ab6de2d",
      "metadata": {
        "id": "8b21bdd4-6593-4ac7-a663-445b8ab6de2d",
        "outputId": "106c11e7-f40d-420f-a68c-6a61090d9838"
      },
      "outputs": [
        {
          "name": "stdout",
          "output_type": "stream",
          "text": [
            "\n",
            "To track the changes with git, run:\n",
            "\n",
            "\tgit add validation.csv.dvc test.csv.dvc train.csv.dvc\n",
            "\n",
            "To enable auto staging, run:\n",
            "\n",
            "\tdvc config core.autostage true\n"
          ]
        },
        {
          "name": "stderr",
          "output_type": "stream",
          "text": [
            "\\u280b Checking graph\n",
            "\n"
          ]
        }
      ],
      "source": [
        "!dvc add train.csv test.csv validation.csv"
      ]
    },
    {
      "cell_type": "code",
      "execution_count": null,
      "id": "a4d0d206-e47c-4b11-a58b-aa9fbea94079",
      "metadata": {
        "id": "a4d0d206-e47c-4b11-a58b-aa9fbea94079"
      },
      "outputs": [],
      "source": [
        "!git add validation.csv.dvc test.csv.dvc train.csv.dvc"
      ]
    },
    {
      "cell_type": "code",
      "execution_count": null,
      "id": "498faa7b-4e0c-42ac-b88f-6b5f6a78f5b3",
      "metadata": {
        "id": "498faa7b-4e0c-42ac-b88f-6b5f6a78f5b3",
        "outputId": "03c1f1bb-0252-45a6-eb06-d2a761776c36"
      },
      "outputs": [
        {
          "name": "stdout",
          "output_type": "stream",
          "text": [
            "[main d56e477] Version 2 split\n",
            " 3 files changed, 6 insertions(+), 6 deletions(-)\n"
          ]
        }
      ],
      "source": [
        "!git commit -m \"Version 2 split\""
      ]
    },
    {
      "cell_type": "markdown",
      "id": "b419864f-d52b-4200-a9ee-30d7bd380686",
      "metadata": {
        "id": "b419864f-d52b-4200-a9ee-30d7bd380686"
      },
      "source": [
        "### Accessing different version splits"
      ]
    },
    {
      "cell_type": "code",
      "source": [
        "!git log"
      ],
      "metadata": {
        "colab": {
          "base_uri": "https://localhost:8080/"
        },
        "id": "wgmCHwXFHTWw",
        "outputId": "971ef76a-24c9-4e42-d7ba-b948ce4acab4"
      },
      "id": "wgmCHwXFHTWw",
      "execution_count": 2,
      "outputs": [
        {
          "output_type": "stream",
          "name": "stdout",
          "text": [
            "commit d56e477102e984884aa91d89f1245a0079e7e796\n",
            "Author: Gauranga Kumar Baishya <gaurangabaishya15@gmail.com>\n",
            "Date:   Tue Feb 20 22:47:49 2025 +0530\n",
            "\n",
            "    Version 2 split\n",
            "\n",
            "commit ecca3f39daefa2ad9193e183be75971bde532cb2\n",
            "Author: Gauranga Kumar Baishya <gaurangabaishya15@gmail.com>\n",
            "Date:   Tue Feb 20 22:42:02 2025 +0530\n",
            "\n",
            "    Version 1 split\n",
            "\n",
            "commit 1c2e5387b2985988488b64e87666519995010972\n",
            "Author: Gauranga Kumar Baishya <gaurangabaishya15@gmail.com>\n",
            "Date:   Tue Feb 20 22:08:44 2025 +0530\n",
            "\n",
            "    Adding the raw_data.csv\n",
            "\n",
            "commit 7ebfcd47955a68652bb86bbfaed3585a2de30e69\n",
            "Author: Gauranga Kumar Baishya <gaurangabaishya15@gmail.com>\n",
            "Date:   Tue Feb 20 22:04:02 2025 +0530\n",
            "\n",
            "    stop tracking raw_data.csv\n",
            "\n",
            "commit ec775949902edf9a3d8d3c03b668d7140d734282\n",
            "Author: Gauranga Kumar Baishya <gaurangabaishya15@gmail.com>\n",
            "Date:   Tue Feb 20 20:16:43 2025 +0530\n",
            "\n",
            "    copied emails.csv into raw_data.csv\n",
            "\n",
            "commit 7edb0e05b764f43db66f69d4fa9aa528a32bcf09\n",
            "Author: Gauranga Kumar Baishya <gaurangabaishya15@gmail.com>\n",
            "Date:   Tue Feb 20 19:53:37 2025 +0530\n",
            "\n",
            "    Updated README.md according to assignments partitioning\n",
            "\n",
            "commit 3adc0fd54215cf3aa13388ee6faef94a10f0da8d\n",
            "Author: Gauranga Kumar Baishya <gaurangabaishya15@gmail.com>\n",
            "Date:   Tue Feb 20 19:52:04 2025 +0530\n",
            "\n",
            "    Changes for partitioning Assignments\n",
            "\n",
            "commit acdd3a01c20e3e57b438646b795f59ed6a6075d9\n",
            "Author: Gauranga Kumar Baishya <143836310+gaurangabaishya15@users.noreply.github.com>\n",
            "Date:   Tue Feb 20 16:26:39 2025 +0530\n",
            "\n",
            "    Create README.md for Assignment 2\n",
            "\n",
            "commit a301d343918da3fcaf4906fc67a8942e94e129ec\n",
            "Author: Gauranga Kumar Baishya <143836310+gaurangabaishya15@users.noreply.github.com>\n",
            "Date:   Tue Feb 20 16:25:05 2025 +0530\n",
            "\n",
            "    Create .gitignore for excluding the environment from committing to github\n",
            "\n",
            "commit 703e5ebbff24299d8b2b8b00fb51ee016cc40a64\n",
            "Author: Gauranga Kumar Baishya <143836310+gaurangabaishya15@users.noreply.github.com>\n",
            "Date:   Tue Feb 6 22:58:43 2025 +0530\n",
            "\n",
            "    Update README.md\n",
            "\n",
            "commit d133b2a97ad10238a526e35cdd9e8787fd409732\n",
            "Author: Gauranga Kumar Baishya <143836310+gaurangabaishya15@users.noreply.github.com>\n",
            "Date:   Tue Feb 6 22:49:50 2025 +0530\n",
            "\n",
            "    train, validation and test datasets\n",
            "    \n",
            "    On running the prepare.ipynb notebook on main dataset, we get the preprocessed training, validation and testing datasets\n",
            "\n",
            "commit 08f3230612557704e4ef2d7291d87b80627fc620\n",
            "Author: Gauranga Kumar Baishya <143836310+gaurangabaishya15@users.noreply.github.com>\n",
            "Date:   Tue Feb 6 22:47:03 2025 +0530\n",
            "\n",
            "    The main dataset\n",
            "\n",
            "commit 1c0435b1b656b609eb4aed09031529b82b4ba565\n",
            "Author: Gauranga Kumar Baishya <143836310+gaurangabaishya15@users.noreply.github.com>\n",
            "Date:   Tue Feb 6 22:41:43 2025 +0530\n",
            "\n",
            "    Added main codes for preparation and training\n",
            "    \n",
            "    prepare.ipynb for loading and preprocessing, and then train.ipynb for fitting different models.\n",
            "\n",
            "commit fc88fd78d9928fec4959f4aea82cd22af78c5fe4\n",
            "Author: Gauranga Kumar Baishya <143836310+gaurangabaishya15@users.noreply.github.com>\n",
            "Date:   Tue Feb 6 22:38:19 2025 +0530\n",
            "\n",
            "    Initial commit\n",
            "\n"
          ]
        }
      ]
    },
    {
      "cell_type": "code",
      "execution_count": null,
      "id": "a8f4ef36-5571-42ec-aa75-f48ada332703",
      "metadata": {
        "id": "a8f4ef36-5571-42ec-aa75-f48ada332703",
        "outputId": "4fb49eeb-962b-43e5-82dc-481326c13181"
      },
      "outputs": [
        {
          "name": "stderr",
          "output_type": "stream",
          "text": [
            "Note: switching to 'ecca3f39daefa2ad9193e183be75971bde532cb2'.\n",
            "\n",
            "You are in 'detached HEAD' state. You can look around, make experimental\n",
            "changes and commit them, and you can discard any commits you make in this\n",
            "state without impacting any branches by switching back to a branch.\n",
            "\n",
            "If you want to create a new branch to retain commits you create, you may\n",
            "do so (now or later) by using -c with the switch command. Example:\n",
            "\n",
            "  git switch -c <new-branch-name>\n",
            "\n",
            "Or undo this operation with:\n",
            "\n",
            "  git switch -\n",
            "\n",
            "Turn off this advice by setting config variable advice.detachedHead to false\n",
            "\n",
            "HEAD is now at ecca3f3 Version 1 split\n"
          ]
        }
      ],
      "source": [
        "!git checkout ecca3f39daefa2ad9193e183be75971bde532cb2"
      ]
    },
    {
      "cell_type": "code",
      "execution_count": null,
      "id": "893df366-5f74-4336-9ed9-71f35dab39a7",
      "metadata": {
        "id": "893df366-5f74-4336-9ed9-71f35dab39a7",
        "outputId": "516b5e60-2266-476c-abab-a747a3a68e3c"
      },
      "outputs": [
        {
          "name": "stdout",
          "output_type": "stream",
          "text": [
            "M       validation.csv\n",
            "M       train.csv\n",
            "M       test.csv\n"
          ]
        }
      ],
      "source": [
        "!dvc checkout"
      ]
    },
    {
      "cell_type": "markdown",
      "id": "bf01874c-edf3-4ed2-97f5-0b66743e02d6",
      "metadata": {
        "id": "bf01874c-edf3-4ed2-97f5-0b66743e02d6"
      },
      "source": [
        "Distribution of Version 1 split"
      ]
    },
    {
      "cell_type": "code",
      "execution_count": null,
      "id": "176d681c-6abf-40d4-b0a6-8af0899d353b",
      "metadata": {
        "id": "176d681c-6abf-40d4-b0a6-8af0899d353b"
      },
      "outputs": [],
      "source": [
        "train = pd.read_csv(\"train.csv\")\n",
        "test = pd.read_csv(\"test.csv\")\n",
        "val = pd.read_csv(\"validation.csv\")"
      ]
    },
    {
      "cell_type": "code",
      "execution_count": null,
      "id": "737ed285-3ff5-4f85-a452-79d017ef8c37",
      "metadata": {
        "id": "737ed285-3ff5-4f85-a452-79d017ef8c37"
      },
      "outputs": [],
      "source": [
        "test_y = test[\"spam\"]\n",
        "train_y = train[\"spam\"]\n",
        "val_y = val[\"spam\"]"
      ]
    },
    {
      "cell_type": "code",
      "execution_count": null,
      "id": "4e3a8c6b-152b-4379-b0e6-81db52b332a9",
      "metadata": {
        "id": "4e3a8c6b-152b-4379-b0e6-81db52b332a9",
        "outputId": "5dcfb865-c333-46a2-ec0b-eacd4a8e7bea"
      },
      "outputs": [
        {
          "name": "stdout",
          "output_type": "stream",
          "text": [
            "Training data:\n",
            "\n",
            "Number of 0 = 3082\n",
            "Number of 1 = 927\n",
            "\n",
            "\n",
            "\n",
            "Validation data:\n",
            "\n",
            "Number of 0 = 645\n",
            "Number of 1 = 214\n",
            "\n",
            "\n",
            "\n",
            "Testing data:\n",
            "\n",
            "Number of 0 = 633\n",
            "Number of 1 = 227\n"
          ]
        }
      ],
      "source": [
        "print(\"Training data:\", end = \"\\n\\n\")\n",
        "print(\"Number of 0 =\", np.sum(train_y == 0))\n",
        "print(\"Number of 1 =\", np.sum(train_y == 1), end = \"\\n\\n\\n\\n\")\n",
        "print(\"Validation data:\", end = \"\\n\\n\")\n",
        "print(\"Number of 0 =\", np.sum(val_y == 0))\n",
        "print(\"Number of 1 =\", np.sum(val_y == 1), end = \"\\n\\n\\n\\n\")\n",
        "print(\"Testing data:\", end = \"\\n\\n\")\n",
        "print(\"Number of 0 =\", np.sum(test_y == 0))\n",
        "print(\"Number of 1 =\", np.sum(test_y == 1))"
      ]
    },
    {
      "cell_type": "markdown",
      "id": "d935f9a6-8a27-446a-9d32-090fc60eac02",
      "metadata": {
        "id": "d935f9a6-8a27-446a-9d32-090fc60eac02"
      },
      "source": [
        "Distribution of Version 2 split"
      ]
    },
    {
      "cell_type": "code",
      "execution_count": null,
      "id": "0a38db23-394d-48a1-95ee-f06d1633b53c",
      "metadata": {
        "id": "0a38db23-394d-48a1-95ee-f06d1633b53c",
        "outputId": "5f86ed91-1b33-4846-819a-bbd824fdf480"
      },
      "outputs": [
        {
          "name": "stderr",
          "output_type": "stream",
          "text": [
            "Note: switching to 'd56e477102e984884aa91d89f1245a0079e7e796'.\n",
            "\n",
            "You are in 'detached HEAD' state. You can look around, make experimental\n",
            "changes and commit them, and you can discard any commits you make in this\n",
            "state without impacting any branches by switching back to a branch.\n",
            "\n",
            "If you want to create a new branch to retain commits you create, you may\n",
            "do so (now or later) by using -c with the switch command. Example:\n",
            "\n",
            "  git switch -c <new-branch-name>\n",
            "\n",
            "Or undo this operation with:\n",
            "\n",
            "  git switch -\n",
            "\n",
            "Turn off this advice by setting config variable advice.detachedHead to false\n",
            "\n",
            "HEAD is now at d56e477 Version 2 split\n"
          ]
        }
      ],
      "source": [
        "!git checkout d56e477102e984884aa91d89f1245a0079e7e796"
      ]
    },
    {
      "cell_type": "code",
      "execution_count": null,
      "id": "dbc6aba8-6ac2-400b-a2a2-f4170cb9bc1b",
      "metadata": {
        "id": "dbc6aba8-6ac2-400b-a2a2-f4170cb9bc1b",
        "outputId": "2e2c336c-2830-44fb-92d2-45841a082e12"
      },
      "outputs": [
        {
          "name": "stdout",
          "output_type": "stream",
          "text": [
            "M       validation.csv\n",
            "M       train.csv\n",
            "M       test.csv\n"
          ]
        }
      ],
      "source": [
        "!dvc checkout"
      ]
    },
    {
      "cell_type": "code",
      "execution_count": null,
      "id": "45973c43-eb63-4ef8-8b71-9b2d212692a0",
      "metadata": {
        "id": "45973c43-eb63-4ef8-8b71-9b2d212692a0"
      },
      "outputs": [],
      "source": [
        "train = pd.read_csv(\"train.csv\")\n",
        "test = pd.read_csv(\"test.csv\")\n",
        "val = pd.read_csv(\"validation.csv\")"
      ]
    },
    {
      "cell_type": "code",
      "execution_count": null,
      "id": "fdbd4777-fe53-468d-a582-16a3674ffd64",
      "metadata": {
        "id": "fdbd4777-fe53-468d-a582-16a3674ffd64"
      },
      "outputs": [],
      "source": [
        "test_y = test[\"spam\"]\n",
        "train_y = train[\"spam\"]\n",
        "val_y = val[\"spam\"]"
      ]
    },
    {
      "cell_type": "code",
      "execution_count": null,
      "id": "4cb57274-9267-4849-9e3c-4b7f833caf75",
      "metadata": {
        "id": "4cb57274-9267-4849-9e3c-4b7f833caf75",
        "outputId": "9223d5fd-b150-4b3e-f9aa-b174f7767562"
      },
      "outputs": [
        {
          "name": "stdout",
          "output_type": "stream",
          "text": [
            "Training data:\n",
            "\n",
            "Number of 0 = 3045\n",
            "Number of 1 = 964\n",
            "\n",
            "\n",
            "\n",
            "Validation data:\n",
            "\n",
            "Number of 0 = 661\n",
            "Number of 1 = 198\n",
            "\n",
            "\n",
            "\n",
            "Testing data:\n",
            "\n",
            "Number of 0 = 654\n",
            "Number of 1 = 206\n"
          ]
        }
      ],
      "source": [
        "print(\"Training data:\", end = \"\\n\\n\")\n",
        "print(\"Number of 0 =\", np.sum(train_y == 0))\n",
        "print(\"Number of 1 =\", np.sum(train_y == 1), end = \"\\n\\n\\n\\n\")\n",
        "print(\"Validation data:\", end = \"\\n\\n\")\n",
        "print(\"Number of 0 =\", np.sum(val_y == 0))\n",
        "print(\"Number of 1 =\", np.sum(val_y == 1), end = \"\\n\\n\\n\\n\")\n",
        "print(\"Testing data:\", end = \"\\n\\n\")\n",
        "print(\"Number of 0 =\", np.sum(test_y == 0))\n",
        "print(\"Number of 1 =\", np.sum(test_y == 1))"
      ]
    },
    {
      "cell_type": "markdown",
      "id": "7dd576b7-6031-4aa8-95b3-e56c09dd286f",
      "metadata": {
        "id": "7dd576b7-6031-4aa8-95b3-e56c09dd286f"
      },
      "source": [
        "Coming back to main branch"
      ]
    },
    {
      "cell_type": "code",
      "execution_count": null,
      "id": "230e015e-3b6d-42bb-9504-722db6dcc147",
      "metadata": {
        "id": "230e015e-3b6d-42bb-9504-722db6dcc147",
        "outputId": "0a00c1cf-8b79-4866-8a82-b6fbd90e36a8"
      },
      "outputs": [
        {
          "name": "stdout",
          "output_type": "stream",
          "text": [
            "Your branch is ahead of 'origin/main' by 4 commits.\n",
            "  (use \"git push\" to publish your local commits)\n"
          ]
        },
        {
          "name": "stderr",
          "output_type": "stream",
          "text": [
            "Switched to branch 'main'\n"
          ]
        }
      ],
      "source": [
        "!git checkout main"
      ]
    },
    {
      "cell_type": "markdown",
      "id": "d338d3e7-df23-4c6a-a3c1-6bca9c6b8c02",
      "metadata": {
        "id": "d338d3e7-df23-4c6a-a3c1-6bca9c6b8c02"
      },
      "source": [
        "#### Push all data versions to gdrive"
      ]
    },
    {
      "cell_type": "code",
      "execution_count": null,
      "id": "6f8152d1-e679-4002-9540-867db53bcb5b",
      "metadata": {
        "id": "6f8152d1-e679-4002-9540-867db53bcb5b",
        "outputId": "042bb826-c2f4-4270-a848-5680017033f0"
      },
      "outputs": [
        {
          "name": "stdout",
          "output_type": "stream",
          "text": [
            "3 files pushed\n"
          ]
        }
      ],
      "source": [
        "!dvc push"
      ]
    }
  ],
  "metadata": {
    "kernelspec": {
      "display_name": "Python 3 (ipykernel)",
      "language": "python",
      "name": "python3"
    },
    "language_info": {
      "codemirror_mode": {
        "name": "ipython",
        "version": 3
      },
      "file_extension": ".py",
      "mimetype": "text/x-python",
      "name": "python",
      "nbconvert_exporter": "python",
      "pygments_lexer": "ipython3",
      "version": "3.9.18"
    },
    "colab": {
      "provenance": []
    }
  },
  "nbformat": 4,
  "nbformat_minor": 5
}